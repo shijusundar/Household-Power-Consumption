{
  "nbformat": 4,
  "nbformat_minor": 0,
  "metadata": {
    "colab": {
      "provenance": []
    },
    "kernelspec": {
      "name": "python3",
      "display_name": "Python 3"
    },
    "language_info": {
      "name": "python"
    }
  },
  "cells": [
    {
      "cell_type": "markdown",
      "source": [
        "# **Implementation of Regression models on Household Power Consumption**\n",
        "\n"
      ],
      "metadata": {
        "id": "xaZoUXBkZywH"
      }
    },
    {
      "cell_type": "markdown",
      "source": [
        "**Life cycle of Machine learning Project** \n",
        "\n",
        "*  Understanding the Problem Statement\n",
        "*  Data Ingestion\n",
        "\n",
        "*  Data Cleaning\n",
        "*  Exploratory data analysis\n",
        "\n",
        "*  Data Pre-Processing\n",
        "*  Model Training\n",
        "\n",
        "\n",
        "\n",
        "\n",
        "\n",
        "\n",
        "\n",
        "\n",
        "\n",
        "\n",
        "\n",
        "\n",
        "\n",
        "\n",
        "\n",
        "\n"
      ],
      "metadata": {
        "id": "a5cFs0agaLSM"
      }
    },
    {
      "cell_type": "markdown",
      "source": [
        "\n",
        "\n",
        "1.   **Problem statement**\n",
        "\n",
        "*   The dataSet consists of 2075259 measurements gathered in a house located in Sceaux (7km of Paris, France) between December 2006 and November 2010 (47 months).\n",
        "*  Using this data we need to predict the energy consumption of the houshol\n",
        "\n",
        "\n",
        "2.    **Data Collection**\n",
        "\n",
        "*   The Dataset is collected from Website named, UCI Machine Learning Repository.\n",
        "*  Link for dataset - https://archive.ics.uci.edu/ml/datasets/Individual+household+electric+power+consumption\n",
        "\n",
        "*  This archive contains 2075259 measurements gathered in a house located in Sceaux (7km of Paris, France) between December 2006 and November 2010 (47 months).\n",
        "\n",
        "\n",
        "\n",
        "\n",
        "\n",
        "\n"
      ],
      "metadata": {
        "id": "_6iboQCybeoo"
      }
    },
    {
      "cell_type": "markdown",
      "source": [
        "***Importing important libraries***"
      ],
      "metadata": {
        "id": "q8S-5Y9tdCdL"
      }
    },
    {
      "cell_type": "code",
      "source": [
        "import numpy as np\n",
        "import pandas as pd\n",
        "from sklearn.model_selection import train_test_split\n",
        "from sklearn.preprocessing import StandardScaler\n",
        "from sklearn.linear_model import LinearRegression,Ridge\n",
        "from sklearn.metrics import mean_squared_error\n",
        "import matplotlib.pyplot as plt\n",
        "import seaborn as sns"
      ],
      "metadata": {
        "id": "spUULIEebUOX"
      },
      "execution_count": 88,
      "outputs": []
    },
    {
      "cell_type": "markdown",
      "source": [
        "3. **Data Ingection**"
      ],
      "metadata": {
        "id": "nBV1iC5XdMsG"
      }
    },
    {
      "cell_type": "markdown",
      "source": [
        "***Loading Dataset***"
      ],
      "metadata": {
        "id": "pZUby2lldc1D"
      }
    },
    {
      "cell_type": "code",
      "source": [
        "df=pd.read_csv('household_power_consumption.txt',sep=';')"
      ],
      "metadata": {
        "id": "ecOTU5er9Vyo",
        "colab": {
          "base_uri": "https://localhost:8080/"
        },
        "outputId": "09f319f2-bcaa-44a4-856f-8a2b6c682394"
      },
      "execution_count": 89,
      "outputs": [
        {
          "output_type": "stream",
          "name": "stderr",
          "text": [
            "/usr/local/lib/python3.8/dist-packages/IPython/core/interactiveshell.py:3326: DtypeWarning: Columns (2,3,4,5,6,7) have mixed types.Specify dtype option on import or set low_memory=False.\n",
            "  exec(code_obj, self.user_global_ns, self.user_ns)\n"
          ]
        }
      ]
    },
    {
      "cell_type": "code",
      "source": [
        "df.head()"
      ],
      "metadata": {
        "colab": {
          "base_uri": "https://localhost:8080/",
          "height": 250
        },
        "id": "z1kA1PUr9wd9",
        "outputId": "f85cf0e5-dbbe-43a6-ec7b-39cfdc5b48c2"
      },
      "execution_count": 90,
      "outputs": [
        {
          "output_type": "execute_result",
          "data": {
            "text/plain": [
              "         Date      Time Global_active_power Global_reactive_power  Voltage  \\\n",
              "0  16/12/2006  17:24:00               4.216                 0.418  234.840   \n",
              "1  16/12/2006  17:25:00               5.360                 0.436  233.630   \n",
              "2  16/12/2006  17:26:00               5.374                 0.498  233.290   \n",
              "3  16/12/2006  17:27:00               5.388                 0.502  233.740   \n",
              "4  16/12/2006  17:28:00               3.666                 0.528  235.680   \n",
              "\n",
              "  Global_intensity Sub_metering_1 Sub_metering_2  Sub_metering_3  \n",
              "0           18.400          0.000          1.000            17.0  \n",
              "1           23.000          0.000          1.000            16.0  \n",
              "2           23.000          0.000          2.000            17.0  \n",
              "3           23.000          0.000          1.000            17.0  \n",
              "4           15.800          0.000          1.000            17.0  "
            ],
            "text/html": [
              "\n",
              "  <div id=\"df-6002df90-a6cd-4b2d-adc0-82b1c8189ce9\">\n",
              "    <div class=\"colab-df-container\">\n",
              "      <div>\n",
              "<style scoped>\n",
              "    .dataframe tbody tr th:only-of-type {\n",
              "        vertical-align: middle;\n",
              "    }\n",
              "\n",
              "    .dataframe tbody tr th {\n",
              "        vertical-align: top;\n",
              "    }\n",
              "\n",
              "    .dataframe thead th {\n",
              "        text-align: right;\n",
              "    }\n",
              "</style>\n",
              "<table border=\"1\" class=\"dataframe\">\n",
              "  <thead>\n",
              "    <tr style=\"text-align: right;\">\n",
              "      <th></th>\n",
              "      <th>Date</th>\n",
              "      <th>Time</th>\n",
              "      <th>Global_active_power</th>\n",
              "      <th>Global_reactive_power</th>\n",
              "      <th>Voltage</th>\n",
              "      <th>Global_intensity</th>\n",
              "      <th>Sub_metering_1</th>\n",
              "      <th>Sub_metering_2</th>\n",
              "      <th>Sub_metering_3</th>\n",
              "    </tr>\n",
              "  </thead>\n",
              "  <tbody>\n",
              "    <tr>\n",
              "      <th>0</th>\n",
              "      <td>16/12/2006</td>\n",
              "      <td>17:24:00</td>\n",
              "      <td>4.216</td>\n",
              "      <td>0.418</td>\n",
              "      <td>234.840</td>\n",
              "      <td>18.400</td>\n",
              "      <td>0.000</td>\n",
              "      <td>1.000</td>\n",
              "      <td>17.0</td>\n",
              "    </tr>\n",
              "    <tr>\n",
              "      <th>1</th>\n",
              "      <td>16/12/2006</td>\n",
              "      <td>17:25:00</td>\n",
              "      <td>5.360</td>\n",
              "      <td>0.436</td>\n",
              "      <td>233.630</td>\n",
              "      <td>23.000</td>\n",
              "      <td>0.000</td>\n",
              "      <td>1.000</td>\n",
              "      <td>16.0</td>\n",
              "    </tr>\n",
              "    <tr>\n",
              "      <th>2</th>\n",
              "      <td>16/12/2006</td>\n",
              "      <td>17:26:00</td>\n",
              "      <td>5.374</td>\n",
              "      <td>0.498</td>\n",
              "      <td>233.290</td>\n",
              "      <td>23.000</td>\n",
              "      <td>0.000</td>\n",
              "      <td>2.000</td>\n",
              "      <td>17.0</td>\n",
              "    </tr>\n",
              "    <tr>\n",
              "      <th>3</th>\n",
              "      <td>16/12/2006</td>\n",
              "      <td>17:27:00</td>\n",
              "      <td>5.388</td>\n",
              "      <td>0.502</td>\n",
              "      <td>233.740</td>\n",
              "      <td>23.000</td>\n",
              "      <td>0.000</td>\n",
              "      <td>1.000</td>\n",
              "      <td>17.0</td>\n",
              "    </tr>\n",
              "    <tr>\n",
              "      <th>4</th>\n",
              "      <td>16/12/2006</td>\n",
              "      <td>17:28:00</td>\n",
              "      <td>3.666</td>\n",
              "      <td>0.528</td>\n",
              "      <td>235.680</td>\n",
              "      <td>15.800</td>\n",
              "      <td>0.000</td>\n",
              "      <td>1.000</td>\n",
              "      <td>17.0</td>\n",
              "    </tr>\n",
              "  </tbody>\n",
              "</table>\n",
              "</div>\n",
              "      <button class=\"colab-df-convert\" onclick=\"convertToInteractive('df-6002df90-a6cd-4b2d-adc0-82b1c8189ce9')\"\n",
              "              title=\"Convert this dataframe to an interactive table.\"\n",
              "              style=\"display:none;\">\n",
              "        \n",
              "  <svg xmlns=\"http://www.w3.org/2000/svg\" height=\"24px\"viewBox=\"0 0 24 24\"\n",
              "       width=\"24px\">\n",
              "    <path d=\"M0 0h24v24H0V0z\" fill=\"none\"/>\n",
              "    <path d=\"M18.56 5.44l.94 2.06.94-2.06 2.06-.94-2.06-.94-.94-2.06-.94 2.06-2.06.94zm-11 1L8.5 8.5l.94-2.06 2.06-.94-2.06-.94L8.5 2.5l-.94 2.06-2.06.94zm10 10l.94 2.06.94-2.06 2.06-.94-2.06-.94-.94-2.06-.94 2.06-2.06.94z\"/><path d=\"M17.41 7.96l-1.37-1.37c-.4-.4-.92-.59-1.43-.59-.52 0-1.04.2-1.43.59L10.3 9.45l-7.72 7.72c-.78.78-.78 2.05 0 2.83L4 21.41c.39.39.9.59 1.41.59.51 0 1.02-.2 1.41-.59l7.78-7.78 2.81-2.81c.8-.78.8-2.07 0-2.86zM5.41 20L4 18.59l7.72-7.72 1.47 1.35L5.41 20z\"/>\n",
              "  </svg>\n",
              "      </button>\n",
              "      \n",
              "  <style>\n",
              "    .colab-df-container {\n",
              "      display:flex;\n",
              "      flex-wrap:wrap;\n",
              "      gap: 12px;\n",
              "    }\n",
              "\n",
              "    .colab-df-convert {\n",
              "      background-color: #E8F0FE;\n",
              "      border: none;\n",
              "      border-radius: 50%;\n",
              "      cursor: pointer;\n",
              "      display: none;\n",
              "      fill: #1967D2;\n",
              "      height: 32px;\n",
              "      padding: 0 0 0 0;\n",
              "      width: 32px;\n",
              "    }\n",
              "\n",
              "    .colab-df-convert:hover {\n",
              "      background-color: #E2EBFA;\n",
              "      box-shadow: 0px 1px 2px rgba(60, 64, 67, 0.3), 0px 1px 3px 1px rgba(60, 64, 67, 0.15);\n",
              "      fill: #174EA6;\n",
              "    }\n",
              "\n",
              "    [theme=dark] .colab-df-convert {\n",
              "      background-color: #3B4455;\n",
              "      fill: #D2E3FC;\n",
              "    }\n",
              "\n",
              "    [theme=dark] .colab-df-convert:hover {\n",
              "      background-color: #434B5C;\n",
              "      box-shadow: 0px 1px 3px 1px rgba(0, 0, 0, 0.15);\n",
              "      filter: drop-shadow(0px 1px 2px rgba(0, 0, 0, 0.3));\n",
              "      fill: #FFFFFF;\n",
              "    }\n",
              "  </style>\n",
              "\n",
              "      <script>\n",
              "        const buttonEl =\n",
              "          document.querySelector('#df-6002df90-a6cd-4b2d-adc0-82b1c8189ce9 button.colab-df-convert');\n",
              "        buttonEl.style.display =\n",
              "          google.colab.kernel.accessAllowed ? 'block' : 'none';\n",
              "\n",
              "        async function convertToInteractive(key) {\n",
              "          const element = document.querySelector('#df-6002df90-a6cd-4b2d-adc0-82b1c8189ce9');\n",
              "          const dataTable =\n",
              "            await google.colab.kernel.invokeFunction('convertToInteractive',\n",
              "                                                     [key], {});\n",
              "          if (!dataTable) return;\n",
              "\n",
              "          const docLinkHtml = 'Like what you see? Visit the ' +\n",
              "            '<a target=\"_blank\" href=https://colab.research.google.com/notebooks/data_table.ipynb>data table notebook</a>'\n",
              "            + ' to learn more about interactive tables.';\n",
              "          element.innerHTML = '';\n",
              "          dataTable['output_type'] = 'display_data';\n",
              "          await google.colab.output.renderOutput(dataTable, element);\n",
              "          const docLink = document.createElement('div');\n",
              "          docLink.innerHTML = docLinkHtml;\n",
              "          element.appendChild(docLink);\n",
              "        }\n",
              "      </script>\n",
              "    </div>\n",
              "  </div>\n",
              "  "
            ]
          },
          "metadata": {},
          "execution_count": 90
        }
      ]
    },
    {
      "cell_type": "markdown",
      "source": [
        "***Shape and Basic Info about the data***"
      ],
      "metadata": {
        "id": "F44lWdZfd0Ro"
      }
    },
    {
      "cell_type": "code",
      "source": [
        "df.shape"
      ],
      "metadata": {
        "colab": {
          "base_uri": "https://localhost:8080/"
        },
        "id": "MKHqKAOH-lWF",
        "outputId": "cc3b207d-2b48-427e-e2da-f37668b593f4"
      },
      "execution_count": 91,
      "outputs": [
        {
          "output_type": "execute_result",
          "data": {
            "text/plain": [
              "(2075259, 9)"
            ]
          },
          "metadata": {},
          "execution_count": 91
        }
      ]
    },
    {
      "cell_type": "code",
      "source": [
        "df.info"
      ],
      "metadata": {
        "id": "mmC-kMjA_L8B",
        "colab": {
          "base_uri": "https://localhost:8080/"
        },
        "outputId": "ca62cf9d-e1f1-42cc-ab96-bb20d901ef93"
      },
      "execution_count": 92,
      "outputs": [
        {
          "output_type": "execute_result",
          "data": {
            "text/plain": [
              "<bound method DataFrame.info of                Date      Time Global_active_power Global_reactive_power  \\\n",
              "0        16/12/2006  17:24:00               4.216                 0.418   \n",
              "1        16/12/2006  17:25:00               5.360                 0.436   \n",
              "2        16/12/2006  17:26:00               5.374                 0.498   \n",
              "3        16/12/2006  17:27:00               5.388                 0.502   \n",
              "4        16/12/2006  17:28:00               3.666                 0.528   \n",
              "...             ...       ...                 ...                   ...   \n",
              "2075254  26/11/2010  20:58:00               0.946                   0.0   \n",
              "2075255  26/11/2010  20:59:00               0.944                   0.0   \n",
              "2075256  26/11/2010  21:00:00               0.938                   0.0   \n",
              "2075257  26/11/2010  21:01:00               0.934                   0.0   \n",
              "2075258  26/11/2010  21:02:00               0.932                   0.0   \n",
              "\n",
              "         Voltage Global_intensity Sub_metering_1 Sub_metering_2  \\\n",
              "0        234.840           18.400          0.000          1.000   \n",
              "1        233.630           23.000          0.000          1.000   \n",
              "2        233.290           23.000          0.000          2.000   \n",
              "3        233.740           23.000          0.000          1.000   \n",
              "4        235.680           15.800          0.000          1.000   \n",
              "...          ...              ...            ...            ...   \n",
              "2075254   240.43              4.0            0.0            0.0   \n",
              "2075255    240.0              4.0            0.0            0.0   \n",
              "2075256   239.82              3.8            0.0            0.0   \n",
              "2075257    239.7              3.8            0.0            0.0   \n",
              "2075258   239.55              3.8            0.0            0.0   \n",
              "\n",
              "         Sub_metering_3  \n",
              "0                  17.0  \n",
              "1                  16.0  \n",
              "2                  17.0  \n",
              "3                  17.0  \n",
              "4                  17.0  \n",
              "...                 ...  \n",
              "2075254             0.0  \n",
              "2075255             0.0  \n",
              "2075256             0.0  \n",
              "2075257             0.0  \n",
              "2075258             0.0  \n",
              "\n",
              "[2075259 rows x 9 columns]>"
            ]
          },
          "metadata": {},
          "execution_count": 92
        }
      ]
    },
    {
      "cell_type": "code",
      "source": [
        "df.columns"
      ],
      "metadata": {
        "colab": {
          "base_uri": "https://localhost:8080/"
        },
        "id": "TnMvgkW9_j7l",
        "outputId": "f9394520-75db-46d0-9a2e-8f0805cc0e39"
      },
      "execution_count": 93,
      "outputs": [
        {
          "output_type": "execute_result",
          "data": {
            "text/plain": [
              "Index(['Date', 'Time', 'Global_active_power', 'Global_reactive_power',\n",
              "       'Voltage', 'Global_intensity', 'Sub_metering_1', 'Sub_metering_2',\n",
              "       'Sub_metering_3'],\n",
              "      dtype='object')"
            ]
          },
          "metadata": {},
          "execution_count": 93
        }
      ]
    },
    {
      "cell_type": "markdown",
      "source": [
        "***Since the dataset is too large so we will select a sample of the dataset***"
      ],
      "metadata": {
        "id": "hFmTDBJaelCb"
      }
    },
    {
      "cell_type": "code",
      "source": [
        "df_sample=df.sample(30000)"
      ],
      "metadata": {
        "id": "T-GhCzlP_9Mm"
      },
      "execution_count": 94,
      "outputs": []
    },
    {
      "cell_type": "code",
      "source": [
        "df_sample.shape"
      ],
      "metadata": {
        "colab": {
          "base_uri": "https://localhost:8080/"
        },
        "id": "p_5Iyee5EROX",
        "outputId": "ea98b0b4-672b-4e5a-c4c8-51b57782aeeb"
      },
      "execution_count": 95,
      "outputs": [
        {
          "output_type": "execute_result",
          "data": {
            "text/plain": [
              "(30000, 9)"
            ]
          },
          "metadata": {},
          "execution_count": 95
        }
      ]
    },
    {
      "cell_type": "code",
      "source": [
        "df_sample.head()"
      ],
      "metadata": {
        "colab": {
          "base_uri": "https://localhost:8080/",
          "height": 270
        },
        "id": "wSfsuDJ5EUdD",
        "outputId": "e1cb798b-48a0-4aaa-8376-c67fec43d9cf"
      },
      "execution_count": 96,
      "outputs": [
        {
          "output_type": "execute_result",
          "data": {
            "text/plain": [
              "               Date      Time Global_active_power Global_reactive_power  \\\n",
              "579616    23/1/2008  05:40:00               0.464                 0.086   \n",
              "1049617  14/12/2008  15:01:00               3.496                 0.344   \n",
              "21696    31/12/2006  19:00:00               2.448                 0.100   \n",
              "1908920    3/8/2010  08:44:00               0.310                 0.000   \n",
              "1744015   10/4/2010  20:19:00               0.616                 0.070   \n",
              "\n",
              "         Voltage Global_intensity Sub_metering_1 Sub_metering_2  \\\n",
              "579616   241.820            2.200          0.000          2.000   \n",
              "1049617  241.260           14.600          1.000         37.000   \n",
              "21696    235.300           10.400          0.000          0.000   \n",
              "1908920  242.170            1.400          0.000          0.000   \n",
              "1744015  243.510            2.600          0.000          0.000   \n",
              "\n",
              "         Sub_metering_3  \n",
              "579616              0.0  \n",
              "1049617             0.0  \n",
              "21696               0.0  \n",
              "1908920             1.0  \n",
              "1744015             1.0  "
            ],
            "text/html": [
              "\n",
              "  <div id=\"df-2f25bafd-f3b5-449a-ab0d-e214ef509f66\">\n",
              "    <div class=\"colab-df-container\">\n",
              "      <div>\n",
              "<style scoped>\n",
              "    .dataframe tbody tr th:only-of-type {\n",
              "        vertical-align: middle;\n",
              "    }\n",
              "\n",
              "    .dataframe tbody tr th {\n",
              "        vertical-align: top;\n",
              "    }\n",
              "\n",
              "    .dataframe thead th {\n",
              "        text-align: right;\n",
              "    }\n",
              "</style>\n",
              "<table border=\"1\" class=\"dataframe\">\n",
              "  <thead>\n",
              "    <tr style=\"text-align: right;\">\n",
              "      <th></th>\n",
              "      <th>Date</th>\n",
              "      <th>Time</th>\n",
              "      <th>Global_active_power</th>\n",
              "      <th>Global_reactive_power</th>\n",
              "      <th>Voltage</th>\n",
              "      <th>Global_intensity</th>\n",
              "      <th>Sub_metering_1</th>\n",
              "      <th>Sub_metering_2</th>\n",
              "      <th>Sub_metering_3</th>\n",
              "    </tr>\n",
              "  </thead>\n",
              "  <tbody>\n",
              "    <tr>\n",
              "      <th>579616</th>\n",
              "      <td>23/1/2008</td>\n",
              "      <td>05:40:00</td>\n",
              "      <td>0.464</td>\n",
              "      <td>0.086</td>\n",
              "      <td>241.820</td>\n",
              "      <td>2.200</td>\n",
              "      <td>0.000</td>\n",
              "      <td>2.000</td>\n",
              "      <td>0.0</td>\n",
              "    </tr>\n",
              "    <tr>\n",
              "      <th>1049617</th>\n",
              "      <td>14/12/2008</td>\n",
              "      <td>15:01:00</td>\n",
              "      <td>3.496</td>\n",
              "      <td>0.344</td>\n",
              "      <td>241.260</td>\n",
              "      <td>14.600</td>\n",
              "      <td>1.000</td>\n",
              "      <td>37.000</td>\n",
              "      <td>0.0</td>\n",
              "    </tr>\n",
              "    <tr>\n",
              "      <th>21696</th>\n",
              "      <td>31/12/2006</td>\n",
              "      <td>19:00:00</td>\n",
              "      <td>2.448</td>\n",
              "      <td>0.100</td>\n",
              "      <td>235.300</td>\n",
              "      <td>10.400</td>\n",
              "      <td>0.000</td>\n",
              "      <td>0.000</td>\n",
              "      <td>0.0</td>\n",
              "    </tr>\n",
              "    <tr>\n",
              "      <th>1908920</th>\n",
              "      <td>3/8/2010</td>\n",
              "      <td>08:44:00</td>\n",
              "      <td>0.310</td>\n",
              "      <td>0.000</td>\n",
              "      <td>242.170</td>\n",
              "      <td>1.400</td>\n",
              "      <td>0.000</td>\n",
              "      <td>0.000</td>\n",
              "      <td>1.0</td>\n",
              "    </tr>\n",
              "    <tr>\n",
              "      <th>1744015</th>\n",
              "      <td>10/4/2010</td>\n",
              "      <td>20:19:00</td>\n",
              "      <td>0.616</td>\n",
              "      <td>0.070</td>\n",
              "      <td>243.510</td>\n",
              "      <td>2.600</td>\n",
              "      <td>0.000</td>\n",
              "      <td>0.000</td>\n",
              "      <td>1.0</td>\n",
              "    </tr>\n",
              "  </tbody>\n",
              "</table>\n",
              "</div>\n",
              "      <button class=\"colab-df-convert\" onclick=\"convertToInteractive('df-2f25bafd-f3b5-449a-ab0d-e214ef509f66')\"\n",
              "              title=\"Convert this dataframe to an interactive table.\"\n",
              "              style=\"display:none;\">\n",
              "        \n",
              "  <svg xmlns=\"http://www.w3.org/2000/svg\" height=\"24px\"viewBox=\"0 0 24 24\"\n",
              "       width=\"24px\">\n",
              "    <path d=\"M0 0h24v24H0V0z\" fill=\"none\"/>\n",
              "    <path d=\"M18.56 5.44l.94 2.06.94-2.06 2.06-.94-2.06-.94-.94-2.06-.94 2.06-2.06.94zm-11 1L8.5 8.5l.94-2.06 2.06-.94-2.06-.94L8.5 2.5l-.94 2.06-2.06.94zm10 10l.94 2.06.94-2.06 2.06-.94-2.06-.94-.94-2.06-.94 2.06-2.06.94z\"/><path d=\"M17.41 7.96l-1.37-1.37c-.4-.4-.92-.59-1.43-.59-.52 0-1.04.2-1.43.59L10.3 9.45l-7.72 7.72c-.78.78-.78 2.05 0 2.83L4 21.41c.39.39.9.59 1.41.59.51 0 1.02-.2 1.41-.59l7.78-7.78 2.81-2.81c.8-.78.8-2.07 0-2.86zM5.41 20L4 18.59l7.72-7.72 1.47 1.35L5.41 20z\"/>\n",
              "  </svg>\n",
              "      </button>\n",
              "      \n",
              "  <style>\n",
              "    .colab-df-container {\n",
              "      display:flex;\n",
              "      flex-wrap:wrap;\n",
              "      gap: 12px;\n",
              "    }\n",
              "\n",
              "    .colab-df-convert {\n",
              "      background-color: #E8F0FE;\n",
              "      border: none;\n",
              "      border-radius: 50%;\n",
              "      cursor: pointer;\n",
              "      display: none;\n",
              "      fill: #1967D2;\n",
              "      height: 32px;\n",
              "      padding: 0 0 0 0;\n",
              "      width: 32px;\n",
              "    }\n",
              "\n",
              "    .colab-df-convert:hover {\n",
              "      background-color: #E2EBFA;\n",
              "      box-shadow: 0px 1px 2px rgba(60, 64, 67, 0.3), 0px 1px 3px 1px rgba(60, 64, 67, 0.15);\n",
              "      fill: #174EA6;\n",
              "    }\n",
              "\n",
              "    [theme=dark] .colab-df-convert {\n",
              "      background-color: #3B4455;\n",
              "      fill: #D2E3FC;\n",
              "    }\n",
              "\n",
              "    [theme=dark] .colab-df-convert:hover {\n",
              "      background-color: #434B5C;\n",
              "      box-shadow: 0px 1px 3px 1px rgba(0, 0, 0, 0.15);\n",
              "      filter: drop-shadow(0px 1px 2px rgba(0, 0, 0, 0.3));\n",
              "      fill: #FFFFFF;\n",
              "    }\n",
              "  </style>\n",
              "\n",
              "      <script>\n",
              "        const buttonEl =\n",
              "          document.querySelector('#df-2f25bafd-f3b5-449a-ab0d-e214ef509f66 button.colab-df-convert');\n",
              "        buttonEl.style.display =\n",
              "          google.colab.kernel.accessAllowed ? 'block' : 'none';\n",
              "\n",
              "        async function convertToInteractive(key) {\n",
              "          const element = document.querySelector('#df-2f25bafd-f3b5-449a-ab0d-e214ef509f66');\n",
              "          const dataTable =\n",
              "            await google.colab.kernel.invokeFunction('convertToInteractive',\n",
              "                                                     [key], {});\n",
              "          if (!dataTable) return;\n",
              "\n",
              "          const docLinkHtml = 'Like what you see? Visit the ' +\n",
              "            '<a target=\"_blank\" href=https://colab.research.google.com/notebooks/data_table.ipynb>data table notebook</a>'\n",
              "            + ' to learn more about interactive tables.';\n",
              "          element.innerHTML = '';\n",
              "          dataTable['output_type'] = 'display_data';\n",
              "          await google.colab.output.renderOutput(dataTable, element);\n",
              "          const docLink = document.createElement('div');\n",
              "          docLink.innerHTML = docLinkHtml;\n",
              "          element.appendChild(docLink);\n",
              "        }\n",
              "      </script>\n",
              "    </div>\n",
              "  </div>\n",
              "  "
            ]
          },
          "metadata": {},
          "execution_count": 96
        }
      ]
    },
    {
      "cell_type": "markdown",
      "source": [
        "***Resetting the index of the sample dataframe***"
      ],
      "metadata": {
        "id": "VucGwyyRfIR2"
      }
    },
    {
      "cell_type": "code",
      "source": [
        "df_sample.reset_index(inplace=True,drop=True)"
      ],
      "metadata": {
        "id": "-JVipQRbEdEU"
      },
      "execution_count": 97,
      "outputs": []
    },
    {
      "cell_type": "code",
      "source": [
        "df_sample"
      ],
      "metadata": {
        "colab": {
          "base_uri": "https://localhost:8080/",
          "height": 467
        },
        "id": "ShaLPgXyFAG2",
        "outputId": "ee6d90cc-4afe-4533-8802-202cc71bc806"
      },
      "execution_count": 98,
      "outputs": [
        {
          "output_type": "execute_result",
          "data": {
            "text/plain": [
              "             Date      Time Global_active_power Global_reactive_power  \\\n",
              "0       23/1/2008  05:40:00               0.464                 0.086   \n",
              "1      14/12/2008  15:01:00               3.496                 0.344   \n",
              "2      31/12/2006  19:00:00               2.448                 0.100   \n",
              "3        3/8/2010  08:44:00               0.310                 0.000   \n",
              "4       10/4/2010  20:19:00               0.616                 0.070   \n",
              "...           ...       ...                 ...                   ...   \n",
              "29995   14/7/2010  23:46:00               2.634                 0.052   \n",
              "29996  15/10/2007  10:43:00               1.358                 0.086   \n",
              "29997   22/6/2007  01:39:00               0.296                 0.254   \n",
              "29998   25/5/2009  00:40:00               0.400                 0.210   \n",
              "29999   23/7/2008  09:34:00               1.492                 0.314   \n",
              "\n",
              "       Voltage Global_intensity Sub_metering_1 Sub_metering_2  Sub_metering_3  \n",
              "0      241.820            2.200          0.000          2.000             0.0  \n",
              "1      241.260           14.600          1.000         37.000             0.0  \n",
              "2      235.300           10.400          0.000          0.000             0.0  \n",
              "3      242.170            1.400          0.000          0.000             1.0  \n",
              "4      243.510            2.600          0.000          0.000             1.0  \n",
              "...        ...              ...            ...            ...             ...  \n",
              "29995  240.190           11.000          1.000          0.000            19.0  \n",
              "29996  237.800            5.600          0.000          0.000            17.0  \n",
              "29997  241.630            1.600          0.000          1.000             0.0  \n",
              "29998  244.230            1.800          0.000          0.000             0.0  \n",
              "29999  237.850            6.400          0.000          1.000            18.0  \n",
              "\n",
              "[30000 rows x 9 columns]"
            ],
            "text/html": [
              "\n",
              "  <div id=\"df-2293cf64-40dd-414a-bca6-cd83fe54e733\">\n",
              "    <div class=\"colab-df-container\">\n",
              "      <div>\n",
              "<style scoped>\n",
              "    .dataframe tbody tr th:only-of-type {\n",
              "        vertical-align: middle;\n",
              "    }\n",
              "\n",
              "    .dataframe tbody tr th {\n",
              "        vertical-align: top;\n",
              "    }\n",
              "\n",
              "    .dataframe thead th {\n",
              "        text-align: right;\n",
              "    }\n",
              "</style>\n",
              "<table border=\"1\" class=\"dataframe\">\n",
              "  <thead>\n",
              "    <tr style=\"text-align: right;\">\n",
              "      <th></th>\n",
              "      <th>Date</th>\n",
              "      <th>Time</th>\n",
              "      <th>Global_active_power</th>\n",
              "      <th>Global_reactive_power</th>\n",
              "      <th>Voltage</th>\n",
              "      <th>Global_intensity</th>\n",
              "      <th>Sub_metering_1</th>\n",
              "      <th>Sub_metering_2</th>\n",
              "      <th>Sub_metering_3</th>\n",
              "    </tr>\n",
              "  </thead>\n",
              "  <tbody>\n",
              "    <tr>\n",
              "      <th>0</th>\n",
              "      <td>23/1/2008</td>\n",
              "      <td>05:40:00</td>\n",
              "      <td>0.464</td>\n",
              "      <td>0.086</td>\n",
              "      <td>241.820</td>\n",
              "      <td>2.200</td>\n",
              "      <td>0.000</td>\n",
              "      <td>2.000</td>\n",
              "      <td>0.0</td>\n",
              "    </tr>\n",
              "    <tr>\n",
              "      <th>1</th>\n",
              "      <td>14/12/2008</td>\n",
              "      <td>15:01:00</td>\n",
              "      <td>3.496</td>\n",
              "      <td>0.344</td>\n",
              "      <td>241.260</td>\n",
              "      <td>14.600</td>\n",
              "      <td>1.000</td>\n",
              "      <td>37.000</td>\n",
              "      <td>0.0</td>\n",
              "    </tr>\n",
              "    <tr>\n",
              "      <th>2</th>\n",
              "      <td>31/12/2006</td>\n",
              "      <td>19:00:00</td>\n",
              "      <td>2.448</td>\n",
              "      <td>0.100</td>\n",
              "      <td>235.300</td>\n",
              "      <td>10.400</td>\n",
              "      <td>0.000</td>\n",
              "      <td>0.000</td>\n",
              "      <td>0.0</td>\n",
              "    </tr>\n",
              "    <tr>\n",
              "      <th>3</th>\n",
              "      <td>3/8/2010</td>\n",
              "      <td>08:44:00</td>\n",
              "      <td>0.310</td>\n",
              "      <td>0.000</td>\n",
              "      <td>242.170</td>\n",
              "      <td>1.400</td>\n",
              "      <td>0.000</td>\n",
              "      <td>0.000</td>\n",
              "      <td>1.0</td>\n",
              "    </tr>\n",
              "    <tr>\n",
              "      <th>4</th>\n",
              "      <td>10/4/2010</td>\n",
              "      <td>20:19:00</td>\n",
              "      <td>0.616</td>\n",
              "      <td>0.070</td>\n",
              "      <td>243.510</td>\n",
              "      <td>2.600</td>\n",
              "      <td>0.000</td>\n",
              "      <td>0.000</td>\n",
              "      <td>1.0</td>\n",
              "    </tr>\n",
              "    <tr>\n",
              "      <th>...</th>\n",
              "      <td>...</td>\n",
              "      <td>...</td>\n",
              "      <td>...</td>\n",
              "      <td>...</td>\n",
              "      <td>...</td>\n",
              "      <td>...</td>\n",
              "      <td>...</td>\n",
              "      <td>...</td>\n",
              "      <td>...</td>\n",
              "    </tr>\n",
              "    <tr>\n",
              "      <th>29995</th>\n",
              "      <td>14/7/2010</td>\n",
              "      <td>23:46:00</td>\n",
              "      <td>2.634</td>\n",
              "      <td>0.052</td>\n",
              "      <td>240.190</td>\n",
              "      <td>11.000</td>\n",
              "      <td>1.000</td>\n",
              "      <td>0.000</td>\n",
              "      <td>19.0</td>\n",
              "    </tr>\n",
              "    <tr>\n",
              "      <th>29996</th>\n",
              "      <td>15/10/2007</td>\n",
              "      <td>10:43:00</td>\n",
              "      <td>1.358</td>\n",
              "      <td>0.086</td>\n",
              "      <td>237.800</td>\n",
              "      <td>5.600</td>\n",
              "      <td>0.000</td>\n",
              "      <td>0.000</td>\n",
              "      <td>17.0</td>\n",
              "    </tr>\n",
              "    <tr>\n",
              "      <th>29997</th>\n",
              "      <td>22/6/2007</td>\n",
              "      <td>01:39:00</td>\n",
              "      <td>0.296</td>\n",
              "      <td>0.254</td>\n",
              "      <td>241.630</td>\n",
              "      <td>1.600</td>\n",
              "      <td>0.000</td>\n",
              "      <td>1.000</td>\n",
              "      <td>0.0</td>\n",
              "    </tr>\n",
              "    <tr>\n",
              "      <th>29998</th>\n",
              "      <td>25/5/2009</td>\n",
              "      <td>00:40:00</td>\n",
              "      <td>0.400</td>\n",
              "      <td>0.210</td>\n",
              "      <td>244.230</td>\n",
              "      <td>1.800</td>\n",
              "      <td>0.000</td>\n",
              "      <td>0.000</td>\n",
              "      <td>0.0</td>\n",
              "    </tr>\n",
              "    <tr>\n",
              "      <th>29999</th>\n",
              "      <td>23/7/2008</td>\n",
              "      <td>09:34:00</td>\n",
              "      <td>1.492</td>\n",
              "      <td>0.314</td>\n",
              "      <td>237.850</td>\n",
              "      <td>6.400</td>\n",
              "      <td>0.000</td>\n",
              "      <td>1.000</td>\n",
              "      <td>18.0</td>\n",
              "    </tr>\n",
              "  </tbody>\n",
              "</table>\n",
              "<p>30000 rows × 9 columns</p>\n",
              "</div>\n",
              "      <button class=\"colab-df-convert\" onclick=\"convertToInteractive('df-2293cf64-40dd-414a-bca6-cd83fe54e733')\"\n",
              "              title=\"Convert this dataframe to an interactive table.\"\n",
              "              style=\"display:none;\">\n",
              "        \n",
              "  <svg xmlns=\"http://www.w3.org/2000/svg\" height=\"24px\"viewBox=\"0 0 24 24\"\n",
              "       width=\"24px\">\n",
              "    <path d=\"M0 0h24v24H0V0z\" fill=\"none\"/>\n",
              "    <path d=\"M18.56 5.44l.94 2.06.94-2.06 2.06-.94-2.06-.94-.94-2.06-.94 2.06-2.06.94zm-11 1L8.5 8.5l.94-2.06 2.06-.94-2.06-.94L8.5 2.5l-.94 2.06-2.06.94zm10 10l.94 2.06.94-2.06 2.06-.94-2.06-.94-.94-2.06-.94 2.06-2.06.94z\"/><path d=\"M17.41 7.96l-1.37-1.37c-.4-.4-.92-.59-1.43-.59-.52 0-1.04.2-1.43.59L10.3 9.45l-7.72 7.72c-.78.78-.78 2.05 0 2.83L4 21.41c.39.39.9.59 1.41.59.51 0 1.02-.2 1.41-.59l7.78-7.78 2.81-2.81c.8-.78.8-2.07 0-2.86zM5.41 20L4 18.59l7.72-7.72 1.47 1.35L5.41 20z\"/>\n",
              "  </svg>\n",
              "      </button>\n",
              "      \n",
              "  <style>\n",
              "    .colab-df-container {\n",
              "      display:flex;\n",
              "      flex-wrap:wrap;\n",
              "      gap: 12px;\n",
              "    }\n",
              "\n",
              "    .colab-df-convert {\n",
              "      background-color: #E8F0FE;\n",
              "      border: none;\n",
              "      border-radius: 50%;\n",
              "      cursor: pointer;\n",
              "      display: none;\n",
              "      fill: #1967D2;\n",
              "      height: 32px;\n",
              "      padding: 0 0 0 0;\n",
              "      width: 32px;\n",
              "    }\n",
              "\n",
              "    .colab-df-convert:hover {\n",
              "      background-color: #E2EBFA;\n",
              "      box-shadow: 0px 1px 2px rgba(60, 64, 67, 0.3), 0px 1px 3px 1px rgba(60, 64, 67, 0.15);\n",
              "      fill: #174EA6;\n",
              "    }\n",
              "\n",
              "    [theme=dark] .colab-df-convert {\n",
              "      background-color: #3B4455;\n",
              "      fill: #D2E3FC;\n",
              "    }\n",
              "\n",
              "    [theme=dark] .colab-df-convert:hover {\n",
              "      background-color: #434B5C;\n",
              "      box-shadow: 0px 1px 3px 1px rgba(0, 0, 0, 0.15);\n",
              "      filter: drop-shadow(0px 1px 2px rgba(0, 0, 0, 0.3));\n",
              "      fill: #FFFFFF;\n",
              "    }\n",
              "  </style>\n",
              "\n",
              "      <script>\n",
              "        const buttonEl =\n",
              "          document.querySelector('#df-2293cf64-40dd-414a-bca6-cd83fe54e733 button.colab-df-convert');\n",
              "        buttonEl.style.display =\n",
              "          google.colab.kernel.accessAllowed ? 'block' : 'none';\n",
              "\n",
              "        async function convertToInteractive(key) {\n",
              "          const element = document.querySelector('#df-2293cf64-40dd-414a-bca6-cd83fe54e733');\n",
              "          const dataTable =\n",
              "            await google.colab.kernel.invokeFunction('convertToInteractive',\n",
              "                                                     [key], {});\n",
              "          if (!dataTable) return;\n",
              "\n",
              "          const docLinkHtml = 'Like what you see? Visit the ' +\n",
              "            '<a target=\"_blank\" href=https://colab.research.google.com/notebooks/data_table.ipynb>data table notebook</a>'\n",
              "            + ' to learn more about interactive tables.';\n",
              "          element.innerHTML = '';\n",
              "          dataTable['output_type'] = 'display_data';\n",
              "          await google.colab.output.renderOutput(dataTable, element);\n",
              "          const docLink = document.createElement('div');\n",
              "          docLink.innerHTML = docLinkHtml;\n",
              "          element.appendChild(docLink);\n",
              "        }\n",
              "      </script>\n",
              "    </div>\n",
              "  </div>\n",
              "  "
            ]
          },
          "metadata": {},
          "execution_count": 98
        }
      ]
    },
    {
      "cell_type": "markdown",
      "source": [
        "**4. Data Cleaning**"
      ],
      "metadata": {
        "id": "8ZonoAMRfTS4"
      }
    },
    {
      "cell_type": "code",
      "source": [
        "df_sample.replace(',',np.nan,inplace=True)\n",
        "df_sample.replace('',np.nan,inplace=True)\n",
        "df_sample.replace('nan',np.nan,inplace=True)\n",
        "df_sample.replace('?',np.nan,inplace=True)\n"
      ],
      "metadata": {
        "id": "E2FPXigBFIrh"
      },
      "execution_count": 99,
      "outputs": []
    },
    {
      "cell_type": "code",
      "source": [
        "df.info()"
      ],
      "metadata": {
        "colab": {
          "base_uri": "https://localhost:8080/"
        },
        "id": "jxtLw3onHabw",
        "outputId": "fcffd922-3f2a-4a7a-a879-b0cfec08d4a5"
      },
      "execution_count": 100,
      "outputs": [
        {
          "output_type": "stream",
          "name": "stdout",
          "text": [
            "<class 'pandas.core.frame.DataFrame'>\n",
            "RangeIndex: 2075259 entries, 0 to 2075258\n",
            "Data columns (total 9 columns):\n",
            " #   Column                 Dtype  \n",
            "---  ------                 -----  \n",
            " 0   Date                   object \n",
            " 1   Time                   object \n",
            " 2   Global_active_power    object \n",
            " 3   Global_reactive_power  object \n",
            " 4   Voltage                object \n",
            " 5   Global_intensity       object \n",
            " 6   Sub_metering_1         object \n",
            " 7   Sub_metering_2         object \n",
            " 8   Sub_metering_3         float64\n",
            "dtypes: float64(1), object(8)\n",
            "memory usage: 142.5+ MB\n"
          ]
        }
      ]
    },
    {
      "cell_type": "markdown",
      "source": [
        "***Also we now create seperate columns for day,month,year,hour and minute from the Date and Time Columns***"
      ],
      "metadata": {
        "id": "hiMX65-MfbYE"
      }
    },
    {
      "cell_type": "code",
      "source": [
        "df_sample['Date']=pd.to_datetime(df_sample['Date'])\n",
        "df_sample['Day']=df_sample['Date'].dt.day\n",
        "df_sample['Month']=df_sample['Date'].dt.month\n",
        "df_sample['Year']=df_sample['Date'].dt.year\n",
        "\n",
        "df_sample['Hour']=pd.to_datetime(df_sample['Time'],format='%H:%M:%S').dt.hour\n",
        "df_sample['Minutes']=pd.to_datetime(df_sample['Time'],format='%H:%M:%S').dt.minute"
      ],
      "metadata": {
        "id": "5NBz-mMdHheP"
      },
      "execution_count": 101,
      "outputs": []
    },
    {
      "cell_type": "markdown",
      "source": [
        "***Converting Datatype to float***"
      ],
      "metadata": {
        "id": "j5NvGc0Ufi_T"
      }
    },
    {
      "cell_type": "code",
      "source": [
        "for item in df_sample.columns:\n",
        "    if df_sample[str(item)].dtype == 'O' and item != 'Time':\n",
        "        df_sample[str(item)] = df_sample[str(item)].astype(float)\n"
      ],
      "metadata": {
        "id": "PBFBTlLSKdfI"
      },
      "execution_count": 102,
      "outputs": []
    },
    {
      "cell_type": "code",
      "source": [
        "df_sample.info()"
      ],
      "metadata": {
        "colab": {
          "base_uri": "https://localhost:8080/"
        },
        "id": "cSSTH_q7Mj7U",
        "outputId": "53304304-3489-40b0-a3eb-b209047a0681"
      },
      "execution_count": 103,
      "outputs": [
        {
          "output_type": "stream",
          "name": "stdout",
          "text": [
            "<class 'pandas.core.frame.DataFrame'>\n",
            "RangeIndex: 30000 entries, 0 to 29999\n",
            "Data columns (total 14 columns):\n",
            " #   Column                 Non-Null Count  Dtype         \n",
            "---  ------                 --------------  -----         \n",
            " 0   Date                   30000 non-null  datetime64[ns]\n",
            " 1   Time                   30000 non-null  object        \n",
            " 2   Global_active_power    29596 non-null  float64       \n",
            " 3   Global_reactive_power  29596 non-null  float64       \n",
            " 4   Voltage                29596 non-null  float64       \n",
            " 5   Global_intensity       29596 non-null  float64       \n",
            " 6   Sub_metering_1         29596 non-null  float64       \n",
            " 7   Sub_metering_2         29596 non-null  float64       \n",
            " 8   Sub_metering_3         29596 non-null  float64       \n",
            " 9   Day                    30000 non-null  int64         \n",
            " 10  Month                  30000 non-null  int64         \n",
            " 11  Year                   30000 non-null  int64         \n",
            " 12  Hour                   30000 non-null  int64         \n",
            " 13  Minutes                30000 non-null  int64         \n",
            "dtypes: datetime64[ns](1), float64(7), int64(5), object(1)\n",
            "memory usage: 3.2+ MB\n"
          ]
        }
      ]
    },
    {
      "cell_type": "markdown",
      "source": [
        "***Null Values***"
      ],
      "metadata": {
        "id": "zvWCyA5bfnQ2"
      }
    },
    {
      "cell_type": "code",
      "source": [
        "df_sample.isnull().sum()"
      ],
      "metadata": {
        "colab": {
          "base_uri": "https://localhost:8080/"
        },
        "id": "Xbmn6SmJNGjE",
        "outputId": "998f2adb-b6ca-4272-ce6b-d5bc37e64311"
      },
      "execution_count": 104,
      "outputs": [
        {
          "output_type": "execute_result",
          "data": {
            "text/plain": [
              "Date                       0\n",
              "Time                       0\n",
              "Global_active_power      404\n",
              "Global_reactive_power    404\n",
              "Voltage                  404\n",
              "Global_intensity         404\n",
              "Sub_metering_1           404\n",
              "Sub_metering_2           404\n",
              "Sub_metering_3           404\n",
              "Day                        0\n",
              "Month                      0\n",
              "Year                       0\n",
              "Hour                       0\n",
              "Minutes                    0\n",
              "dtype: int64"
            ]
          },
          "metadata": {},
          "execution_count": 104
        }
      ]
    },
    {
      "cell_type": "markdown",
      "source": [
        "*There are null values in the dataset , Since the dataset has mostly float values so we will replace the null values by the median of the dataset.*"
      ],
      "metadata": {
        "id": "4_4TKbnOfwrF"
      }
    },
    {
      "cell_type": "code",
      "source": [
        "for item in df_sample.columns:\n",
        "  if df_sample[str(item)].isnull().sum()>0:\n",
        "      df_sample[str(item)]=df_sample[str(item)].fillna(df_sample[str(item)].median())\n"
      ],
      "metadata": {
        "id": "WiTF59PwOnQD"
      },
      "execution_count": 105,
      "outputs": []
    },
    {
      "cell_type": "code",
      "source": [
        "df_sample.isnull().sum()"
      ],
      "metadata": {
        "colab": {
          "base_uri": "https://localhost:8080/"
        },
        "id": "_oK4ZMldPm7p",
        "outputId": "276da94c-0951-40a5-ea22-f90d69907bbb"
      },
      "execution_count": 106,
      "outputs": [
        {
          "output_type": "execute_result",
          "data": {
            "text/plain": [
              "Date                     0\n",
              "Time                     0\n",
              "Global_active_power      0\n",
              "Global_reactive_power    0\n",
              "Voltage                  0\n",
              "Global_intensity         0\n",
              "Sub_metering_1           0\n",
              "Sub_metering_2           0\n",
              "Sub_metering_3           0\n",
              "Day                      0\n",
              "Month                    0\n",
              "Year                     0\n",
              "Hour                     0\n",
              "Minutes                  0\n",
              "dtype: int64"
            ]
          },
          "metadata": {},
          "execution_count": 106
        }
      ]
    },
    {
      "cell_type": "markdown",
      "source": [
        "***Duplicated entries***"
      ],
      "metadata": {
        "id": "WtFcsrwHg74Q"
      }
    },
    {
      "cell_type": "code",
      "source": [
        "df_sample.duplicated().sum()"
      ],
      "metadata": {
        "colab": {
          "base_uri": "https://localhost:8080/"
        },
        "id": "E0P5Zg1vPyRZ",
        "outputId": "c6693315-493f-4fd8-dddc-8fa4df231cd8"
      },
      "execution_count": 107,
      "outputs": [
        {
          "output_type": "execute_result",
          "data": {
            "text/plain": [
              "0"
            ]
          },
          "metadata": {},
          "execution_count": 107
        }
      ]
    },
    {
      "cell_type": "markdown",
      "source": [
        "***Creating Column For Total Metering***"
      ],
      "metadata": {
        "id": "w4twi-XXhKY4"
      }
    },
    {
      "cell_type": "code",
      "source": [
        "df_sample['Total_meetering']=df_sample['Sub_metering_1']+df_sample['Sub_metering_2']+df_sample['Sub_metering_3']"
      ],
      "metadata": {
        "id": "f5kXHiNYQLez"
      },
      "execution_count": 108,
      "outputs": []
    },
    {
      "cell_type": "code",
      "source": [
        "df_sample.sample()"
      ],
      "metadata": {
        "colab": {
          "base_uri": "https://localhost:8080/",
          "height": 162
        },
        "id": "xvROkXkcTYr8",
        "outputId": "154580bf-fce7-40c6-eee5-779e0495957c"
      },
      "execution_count": 109,
      "outputs": [
        {
          "output_type": "execute_result",
          "data": {
            "text/plain": [
              "           Date      Time  Global_active_power  Global_reactive_power  \\\n",
              "4705 2010-12-11  03:30:00                0.376                   0.18   \n",
              "\n",
              "      Voltage  Global_intensity  Sub_metering_1  Sub_metering_2  \\\n",
              "4705    245.6               1.6             0.0             1.0   \n",
              "\n",
              "      Sub_metering_3  Day  Month  Year  Hour  Minutes  Total_meetering  \n",
              "4705             0.0   11     12  2010     3       30              1.0  "
            ],
            "text/html": [
              "\n",
              "  <div id=\"df-c454d0cb-68fc-4453-88dc-6d591dcacfc2\">\n",
              "    <div class=\"colab-df-container\">\n",
              "      <div>\n",
              "<style scoped>\n",
              "    .dataframe tbody tr th:only-of-type {\n",
              "        vertical-align: middle;\n",
              "    }\n",
              "\n",
              "    .dataframe tbody tr th {\n",
              "        vertical-align: top;\n",
              "    }\n",
              "\n",
              "    .dataframe thead th {\n",
              "        text-align: right;\n",
              "    }\n",
              "</style>\n",
              "<table border=\"1\" class=\"dataframe\">\n",
              "  <thead>\n",
              "    <tr style=\"text-align: right;\">\n",
              "      <th></th>\n",
              "      <th>Date</th>\n",
              "      <th>Time</th>\n",
              "      <th>Global_active_power</th>\n",
              "      <th>Global_reactive_power</th>\n",
              "      <th>Voltage</th>\n",
              "      <th>Global_intensity</th>\n",
              "      <th>Sub_metering_1</th>\n",
              "      <th>Sub_metering_2</th>\n",
              "      <th>Sub_metering_3</th>\n",
              "      <th>Day</th>\n",
              "      <th>Month</th>\n",
              "      <th>Year</th>\n",
              "      <th>Hour</th>\n",
              "      <th>Minutes</th>\n",
              "      <th>Total_meetering</th>\n",
              "    </tr>\n",
              "  </thead>\n",
              "  <tbody>\n",
              "    <tr>\n",
              "      <th>4705</th>\n",
              "      <td>2010-12-11</td>\n",
              "      <td>03:30:00</td>\n",
              "      <td>0.376</td>\n",
              "      <td>0.18</td>\n",
              "      <td>245.6</td>\n",
              "      <td>1.6</td>\n",
              "      <td>0.0</td>\n",
              "      <td>1.0</td>\n",
              "      <td>0.0</td>\n",
              "      <td>11</td>\n",
              "      <td>12</td>\n",
              "      <td>2010</td>\n",
              "      <td>3</td>\n",
              "      <td>30</td>\n",
              "      <td>1.0</td>\n",
              "    </tr>\n",
              "  </tbody>\n",
              "</table>\n",
              "</div>\n",
              "      <button class=\"colab-df-convert\" onclick=\"convertToInteractive('df-c454d0cb-68fc-4453-88dc-6d591dcacfc2')\"\n",
              "              title=\"Convert this dataframe to an interactive table.\"\n",
              "              style=\"display:none;\">\n",
              "        \n",
              "  <svg xmlns=\"http://www.w3.org/2000/svg\" height=\"24px\"viewBox=\"0 0 24 24\"\n",
              "       width=\"24px\">\n",
              "    <path d=\"M0 0h24v24H0V0z\" fill=\"none\"/>\n",
              "    <path d=\"M18.56 5.44l.94 2.06.94-2.06 2.06-.94-2.06-.94-.94-2.06-.94 2.06-2.06.94zm-11 1L8.5 8.5l.94-2.06 2.06-.94-2.06-.94L8.5 2.5l-.94 2.06-2.06.94zm10 10l.94 2.06.94-2.06 2.06-.94-2.06-.94-.94-2.06-.94 2.06-2.06.94z\"/><path d=\"M17.41 7.96l-1.37-1.37c-.4-.4-.92-.59-1.43-.59-.52 0-1.04.2-1.43.59L10.3 9.45l-7.72 7.72c-.78.78-.78 2.05 0 2.83L4 21.41c.39.39.9.59 1.41.59.51 0 1.02-.2 1.41-.59l7.78-7.78 2.81-2.81c.8-.78.8-2.07 0-2.86zM5.41 20L4 18.59l7.72-7.72 1.47 1.35L5.41 20z\"/>\n",
              "  </svg>\n",
              "      </button>\n",
              "      \n",
              "  <style>\n",
              "    .colab-df-container {\n",
              "      display:flex;\n",
              "      flex-wrap:wrap;\n",
              "      gap: 12px;\n",
              "    }\n",
              "\n",
              "    .colab-df-convert {\n",
              "      background-color: #E8F0FE;\n",
              "      border: none;\n",
              "      border-radius: 50%;\n",
              "      cursor: pointer;\n",
              "      display: none;\n",
              "      fill: #1967D2;\n",
              "      height: 32px;\n",
              "      padding: 0 0 0 0;\n",
              "      width: 32px;\n",
              "    }\n",
              "\n",
              "    .colab-df-convert:hover {\n",
              "      background-color: #E2EBFA;\n",
              "      box-shadow: 0px 1px 2px rgba(60, 64, 67, 0.3), 0px 1px 3px 1px rgba(60, 64, 67, 0.15);\n",
              "      fill: #174EA6;\n",
              "    }\n",
              "\n",
              "    [theme=dark] .colab-df-convert {\n",
              "      background-color: #3B4455;\n",
              "      fill: #D2E3FC;\n",
              "    }\n",
              "\n",
              "    [theme=dark] .colab-df-convert:hover {\n",
              "      background-color: #434B5C;\n",
              "      box-shadow: 0px 1px 3px 1px rgba(0, 0, 0, 0.15);\n",
              "      filter: drop-shadow(0px 1px 2px rgba(0, 0, 0, 0.3));\n",
              "      fill: #FFFFFF;\n",
              "    }\n",
              "  </style>\n",
              "\n",
              "      <script>\n",
              "        const buttonEl =\n",
              "          document.querySelector('#df-c454d0cb-68fc-4453-88dc-6d591dcacfc2 button.colab-df-convert');\n",
              "        buttonEl.style.display =\n",
              "          google.colab.kernel.accessAllowed ? 'block' : 'none';\n",
              "\n",
              "        async function convertToInteractive(key) {\n",
              "          const element = document.querySelector('#df-c454d0cb-68fc-4453-88dc-6d591dcacfc2');\n",
              "          const dataTable =\n",
              "            await google.colab.kernel.invokeFunction('convertToInteractive',\n",
              "                                                     [key], {});\n",
              "          if (!dataTable) return;\n",
              "\n",
              "          const docLinkHtml = 'Like what you see? Visit the ' +\n",
              "            '<a target=\"_blank\" href=https://colab.research.google.com/notebooks/data_table.ipynb>data table notebook</a>'\n",
              "            + ' to learn more about interactive tables.';\n",
              "          element.innerHTML = '';\n",
              "          dataTable['output_type'] = 'display_data';\n",
              "          await google.colab.output.renderOutput(dataTable, element);\n",
              "          const docLink = document.createElement('div');\n",
              "          docLink.innerHTML = docLinkHtml;\n",
              "          element.appendChild(docLink);\n",
              "        }\n",
              "      </script>\n",
              "    </div>\n",
              "  </div>\n",
              "  "
            ]
          },
          "metadata": {},
          "execution_count": 109
        }
      ]
    },
    {
      "cell_type": "markdown",
      "source": [
        "***Dropping non relevant columns***"
      ],
      "metadata": {
        "id": "cUJQ9XcIiyON"
      }
    },
    {
      "cell_type": "code",
      "source": [
        "df_sample.drop(columns=['Date','Time','Sub_metering_1','Sub_metering_2','Sub_metering_3'],inplace=True)"
      ],
      "metadata": {
        "id": "GfCPBnd4Tgrc"
      },
      "execution_count": 110,
      "outputs": []
    },
    {
      "cell_type": "code",
      "source": [
        "df_sample.columns"
      ],
      "metadata": {
        "colab": {
          "base_uri": "https://localhost:8080/"
        },
        "id": "Ylpb5AtUUbEr",
        "outputId": "6941b6e3-b8b5-434b-dd09-4daf4b97d747"
      },
      "execution_count": 111,
      "outputs": [
        {
          "output_type": "execute_result",
          "data": {
            "text/plain": [
              "Index(['Global_active_power', 'Global_reactive_power', 'Voltage',\n",
              "       'Global_intensity', 'Day', 'Month', 'Year', 'Hour', 'Minutes',\n",
              "       'Total_meetering'],\n",
              "      dtype='object')"
            ]
          },
          "metadata": {},
          "execution_count": 111
        }
      ]
    },
    {
      "cell_type": "code",
      "source": [
        "df_sample.shape"
      ],
      "metadata": {
        "colab": {
          "base_uri": "https://localhost:8080/"
        },
        "id": "gGZc0eV0Ud5N",
        "outputId": "9fc2b522-2f4a-4afe-d605-72fc46369ed1"
      },
      "execution_count": 112,
      "outputs": [
        {
          "output_type": "execute_result",
          "data": {
            "text/plain": [
              "(30000, 10)"
            ]
          },
          "metadata": {},
          "execution_count": 112
        }
      ]
    },
    {
      "cell_type": "markdown",
      "source": [
        "**5. EDA**"
      ],
      "metadata": {
        "id": "C9WNsyRgjCUG"
      }
    },
    {
      "cell_type": "markdown",
      "source": [
        "***Description of the data***"
      ],
      "metadata": {
        "id": "SwcLH-rWjIJ7"
      }
    },
    {
      "cell_type": "code",
      "source": [
        "df_sample.describe().T"
      ],
      "metadata": {
        "colab": {
          "base_uri": "https://localhost:8080/",
          "height": 363
        },
        "id": "Xq4ZBMkiUlEG",
        "outputId": "35d3b831-0e9b-464d-b0c7-7d3b16c110f0"
      },
      "execution_count": 113,
      "outputs": [
        {
          "output_type": "execute_result",
          "data": {
            "text/plain": [
              "                         count         mean        std       min       25%  \\\n",
              "Global_active_power    30000.0     1.071288   1.038897     0.078     0.310   \n",
              "Global_reactive_power  30000.0     0.123046   0.111418     0.000     0.048   \n",
              "Voltage                30000.0   240.831555   3.237285   225.320   239.010   \n",
              "Global_intensity       30000.0     4.545980   4.365132     0.200     1.400   \n",
              "Day                    30000.0    15.671433   8.847370     1.000     8.000   \n",
              "Month                  30000.0     6.450900   3.426891     1.000     4.000   \n",
              "Year                   30000.0  2008.443967   1.126988  2006.000  2007.000   \n",
              "Hour                   30000.0    11.464533   6.917818     0.000     5.000   \n",
              "Minutes                30000.0    29.380267  17.357025     0.000    14.000   \n",
              "Total_meetering        30000.0     8.642333  12.663134     0.000     0.000   \n",
              "\n",
              "                            50%       75%       max  \n",
              "Global_active_power       0.584     1.510     8.526  \n",
              "Global_reactive_power     0.100     0.192     1.070  \n",
              "Voltage                 241.010   242.830   252.860  \n",
              "Global_intensity          2.600     6.200    36.800  \n",
              "Day                      16.000    23.000    31.000  \n",
              "Month                     6.000     9.000    12.000  \n",
              "Year                   2008.000  2009.000  2010.000  \n",
              "Hour                     12.000    17.000    23.000  \n",
              "Minutes                  29.000    44.000    59.000  \n",
              "Total_meetering           1.000    18.000   119.000  "
            ],
            "text/html": [
              "\n",
              "  <div id=\"df-3a580bda-f1af-4afe-b23c-bf816d02ad99\">\n",
              "    <div class=\"colab-df-container\">\n",
              "      <div>\n",
              "<style scoped>\n",
              "    .dataframe tbody tr th:only-of-type {\n",
              "        vertical-align: middle;\n",
              "    }\n",
              "\n",
              "    .dataframe tbody tr th {\n",
              "        vertical-align: top;\n",
              "    }\n",
              "\n",
              "    .dataframe thead th {\n",
              "        text-align: right;\n",
              "    }\n",
              "</style>\n",
              "<table border=\"1\" class=\"dataframe\">\n",
              "  <thead>\n",
              "    <tr style=\"text-align: right;\">\n",
              "      <th></th>\n",
              "      <th>count</th>\n",
              "      <th>mean</th>\n",
              "      <th>std</th>\n",
              "      <th>min</th>\n",
              "      <th>25%</th>\n",
              "      <th>50%</th>\n",
              "      <th>75%</th>\n",
              "      <th>max</th>\n",
              "    </tr>\n",
              "  </thead>\n",
              "  <tbody>\n",
              "    <tr>\n",
              "      <th>Global_active_power</th>\n",
              "      <td>30000.0</td>\n",
              "      <td>1.071288</td>\n",
              "      <td>1.038897</td>\n",
              "      <td>0.078</td>\n",
              "      <td>0.310</td>\n",
              "      <td>0.584</td>\n",
              "      <td>1.510</td>\n",
              "      <td>8.526</td>\n",
              "    </tr>\n",
              "    <tr>\n",
              "      <th>Global_reactive_power</th>\n",
              "      <td>30000.0</td>\n",
              "      <td>0.123046</td>\n",
              "      <td>0.111418</td>\n",
              "      <td>0.000</td>\n",
              "      <td>0.048</td>\n",
              "      <td>0.100</td>\n",
              "      <td>0.192</td>\n",
              "      <td>1.070</td>\n",
              "    </tr>\n",
              "    <tr>\n",
              "      <th>Voltage</th>\n",
              "      <td>30000.0</td>\n",
              "      <td>240.831555</td>\n",
              "      <td>3.237285</td>\n",
              "      <td>225.320</td>\n",
              "      <td>239.010</td>\n",
              "      <td>241.010</td>\n",
              "      <td>242.830</td>\n",
              "      <td>252.860</td>\n",
              "    </tr>\n",
              "    <tr>\n",
              "      <th>Global_intensity</th>\n",
              "      <td>30000.0</td>\n",
              "      <td>4.545980</td>\n",
              "      <td>4.365132</td>\n",
              "      <td>0.200</td>\n",
              "      <td>1.400</td>\n",
              "      <td>2.600</td>\n",
              "      <td>6.200</td>\n",
              "      <td>36.800</td>\n",
              "    </tr>\n",
              "    <tr>\n",
              "      <th>Day</th>\n",
              "      <td>30000.0</td>\n",
              "      <td>15.671433</td>\n",
              "      <td>8.847370</td>\n",
              "      <td>1.000</td>\n",
              "      <td>8.000</td>\n",
              "      <td>16.000</td>\n",
              "      <td>23.000</td>\n",
              "      <td>31.000</td>\n",
              "    </tr>\n",
              "    <tr>\n",
              "      <th>Month</th>\n",
              "      <td>30000.0</td>\n",
              "      <td>6.450900</td>\n",
              "      <td>3.426891</td>\n",
              "      <td>1.000</td>\n",
              "      <td>4.000</td>\n",
              "      <td>6.000</td>\n",
              "      <td>9.000</td>\n",
              "      <td>12.000</td>\n",
              "    </tr>\n",
              "    <tr>\n",
              "      <th>Year</th>\n",
              "      <td>30000.0</td>\n",
              "      <td>2008.443967</td>\n",
              "      <td>1.126988</td>\n",
              "      <td>2006.000</td>\n",
              "      <td>2007.000</td>\n",
              "      <td>2008.000</td>\n",
              "      <td>2009.000</td>\n",
              "      <td>2010.000</td>\n",
              "    </tr>\n",
              "    <tr>\n",
              "      <th>Hour</th>\n",
              "      <td>30000.0</td>\n",
              "      <td>11.464533</td>\n",
              "      <td>6.917818</td>\n",
              "      <td>0.000</td>\n",
              "      <td>5.000</td>\n",
              "      <td>12.000</td>\n",
              "      <td>17.000</td>\n",
              "      <td>23.000</td>\n",
              "    </tr>\n",
              "    <tr>\n",
              "      <th>Minutes</th>\n",
              "      <td>30000.0</td>\n",
              "      <td>29.380267</td>\n",
              "      <td>17.357025</td>\n",
              "      <td>0.000</td>\n",
              "      <td>14.000</td>\n",
              "      <td>29.000</td>\n",
              "      <td>44.000</td>\n",
              "      <td>59.000</td>\n",
              "    </tr>\n",
              "    <tr>\n",
              "      <th>Total_meetering</th>\n",
              "      <td>30000.0</td>\n",
              "      <td>8.642333</td>\n",
              "      <td>12.663134</td>\n",
              "      <td>0.000</td>\n",
              "      <td>0.000</td>\n",
              "      <td>1.000</td>\n",
              "      <td>18.000</td>\n",
              "      <td>119.000</td>\n",
              "    </tr>\n",
              "  </tbody>\n",
              "</table>\n",
              "</div>\n",
              "      <button class=\"colab-df-convert\" onclick=\"convertToInteractive('df-3a580bda-f1af-4afe-b23c-bf816d02ad99')\"\n",
              "              title=\"Convert this dataframe to an interactive table.\"\n",
              "              style=\"display:none;\">\n",
              "        \n",
              "  <svg xmlns=\"http://www.w3.org/2000/svg\" height=\"24px\"viewBox=\"0 0 24 24\"\n",
              "       width=\"24px\">\n",
              "    <path d=\"M0 0h24v24H0V0z\" fill=\"none\"/>\n",
              "    <path d=\"M18.56 5.44l.94 2.06.94-2.06 2.06-.94-2.06-.94-.94-2.06-.94 2.06-2.06.94zm-11 1L8.5 8.5l.94-2.06 2.06-.94-2.06-.94L8.5 2.5l-.94 2.06-2.06.94zm10 10l.94 2.06.94-2.06 2.06-.94-2.06-.94-.94-2.06-.94 2.06-2.06.94z\"/><path d=\"M17.41 7.96l-1.37-1.37c-.4-.4-.92-.59-1.43-.59-.52 0-1.04.2-1.43.59L10.3 9.45l-7.72 7.72c-.78.78-.78 2.05 0 2.83L4 21.41c.39.39.9.59 1.41.59.51 0 1.02-.2 1.41-.59l7.78-7.78 2.81-2.81c.8-.78.8-2.07 0-2.86zM5.41 20L4 18.59l7.72-7.72 1.47 1.35L5.41 20z\"/>\n",
              "  </svg>\n",
              "      </button>\n",
              "      \n",
              "  <style>\n",
              "    .colab-df-container {\n",
              "      display:flex;\n",
              "      flex-wrap:wrap;\n",
              "      gap: 12px;\n",
              "    }\n",
              "\n",
              "    .colab-df-convert {\n",
              "      background-color: #E8F0FE;\n",
              "      border: none;\n",
              "      border-radius: 50%;\n",
              "      cursor: pointer;\n",
              "      display: none;\n",
              "      fill: #1967D2;\n",
              "      height: 32px;\n",
              "      padding: 0 0 0 0;\n",
              "      width: 32px;\n",
              "    }\n",
              "\n",
              "    .colab-df-convert:hover {\n",
              "      background-color: #E2EBFA;\n",
              "      box-shadow: 0px 1px 2px rgba(60, 64, 67, 0.3), 0px 1px 3px 1px rgba(60, 64, 67, 0.15);\n",
              "      fill: #174EA6;\n",
              "    }\n",
              "\n",
              "    [theme=dark] .colab-df-convert {\n",
              "      background-color: #3B4455;\n",
              "      fill: #D2E3FC;\n",
              "    }\n",
              "\n",
              "    [theme=dark] .colab-df-convert:hover {\n",
              "      background-color: #434B5C;\n",
              "      box-shadow: 0px 1px 3px 1px rgba(0, 0, 0, 0.15);\n",
              "      filter: drop-shadow(0px 1px 2px rgba(0, 0, 0, 0.3));\n",
              "      fill: #FFFFFF;\n",
              "    }\n",
              "  </style>\n",
              "\n",
              "      <script>\n",
              "        const buttonEl =\n",
              "          document.querySelector('#df-3a580bda-f1af-4afe-b23c-bf816d02ad99 button.colab-df-convert');\n",
              "        buttonEl.style.display =\n",
              "          google.colab.kernel.accessAllowed ? 'block' : 'none';\n",
              "\n",
              "        async function convertToInteractive(key) {\n",
              "          const element = document.querySelector('#df-3a580bda-f1af-4afe-b23c-bf816d02ad99');\n",
              "          const dataTable =\n",
              "            await google.colab.kernel.invokeFunction('convertToInteractive',\n",
              "                                                     [key], {});\n",
              "          if (!dataTable) return;\n",
              "\n",
              "          const docLinkHtml = 'Like what you see? Visit the ' +\n",
              "            '<a target=\"_blank\" href=https://colab.research.google.com/notebooks/data_table.ipynb>data table notebook</a>'\n",
              "            + ' to learn more about interactive tables.';\n",
              "          element.innerHTML = '';\n",
              "          dataTable['output_type'] = 'display_data';\n",
              "          await google.colab.output.renderOutput(dataTable, element);\n",
              "          const docLink = document.createElement('div');\n",
              "          docLink.innerHTML = docLinkHtml;\n",
              "          element.appendChild(docLink);\n",
              "        }\n",
              "      </script>\n",
              "    </div>\n",
              "  </div>\n",
              "  "
            ]
          },
          "metadata": {},
          "execution_count": 113
        }
      ]
    },
    {
      "cell_type": "code",
      "source": [
        "df_sample.head()"
      ],
      "metadata": {
        "colab": {
          "base_uri": "https://localhost:8080/",
          "height": 206
        },
        "id": "RMLAq9j3VUcH",
        "outputId": "2b76d4a1-5535-4088-ae1f-ba8c9349df3c"
      },
      "execution_count": 114,
      "outputs": [
        {
          "output_type": "execute_result",
          "data": {
            "text/plain": [
              "   Global_active_power  Global_reactive_power  Voltage  Global_intensity  Day  \\\n",
              "0                0.464                  0.086   241.82               2.2   23   \n",
              "1                3.496                  0.344   241.26              14.6   14   \n",
              "2                2.448                  0.100   235.30              10.4   31   \n",
              "3                0.310                  0.000   242.17               1.4    8   \n",
              "4                0.616                  0.070   243.51               2.6    4   \n",
              "\n",
              "   Month  Year  Hour  Minutes  Total_meetering  \n",
              "0      1  2008     5       40              2.0  \n",
              "1     12  2008    15        1             38.0  \n",
              "2     12  2006    19        0              0.0  \n",
              "3      3  2010     8       44              1.0  \n",
              "4     10  2010    20       19              1.0  "
            ],
            "text/html": [
              "\n",
              "  <div id=\"df-7a37c339-89a3-47fe-a148-8b023cdaebdb\">\n",
              "    <div class=\"colab-df-container\">\n",
              "      <div>\n",
              "<style scoped>\n",
              "    .dataframe tbody tr th:only-of-type {\n",
              "        vertical-align: middle;\n",
              "    }\n",
              "\n",
              "    .dataframe tbody tr th {\n",
              "        vertical-align: top;\n",
              "    }\n",
              "\n",
              "    .dataframe thead th {\n",
              "        text-align: right;\n",
              "    }\n",
              "</style>\n",
              "<table border=\"1\" class=\"dataframe\">\n",
              "  <thead>\n",
              "    <tr style=\"text-align: right;\">\n",
              "      <th></th>\n",
              "      <th>Global_active_power</th>\n",
              "      <th>Global_reactive_power</th>\n",
              "      <th>Voltage</th>\n",
              "      <th>Global_intensity</th>\n",
              "      <th>Day</th>\n",
              "      <th>Month</th>\n",
              "      <th>Year</th>\n",
              "      <th>Hour</th>\n",
              "      <th>Minutes</th>\n",
              "      <th>Total_meetering</th>\n",
              "    </tr>\n",
              "  </thead>\n",
              "  <tbody>\n",
              "    <tr>\n",
              "      <th>0</th>\n",
              "      <td>0.464</td>\n",
              "      <td>0.086</td>\n",
              "      <td>241.82</td>\n",
              "      <td>2.2</td>\n",
              "      <td>23</td>\n",
              "      <td>1</td>\n",
              "      <td>2008</td>\n",
              "      <td>5</td>\n",
              "      <td>40</td>\n",
              "      <td>2.0</td>\n",
              "    </tr>\n",
              "    <tr>\n",
              "      <th>1</th>\n",
              "      <td>3.496</td>\n",
              "      <td>0.344</td>\n",
              "      <td>241.26</td>\n",
              "      <td>14.6</td>\n",
              "      <td>14</td>\n",
              "      <td>12</td>\n",
              "      <td>2008</td>\n",
              "      <td>15</td>\n",
              "      <td>1</td>\n",
              "      <td>38.0</td>\n",
              "    </tr>\n",
              "    <tr>\n",
              "      <th>2</th>\n",
              "      <td>2.448</td>\n",
              "      <td>0.100</td>\n",
              "      <td>235.30</td>\n",
              "      <td>10.4</td>\n",
              "      <td>31</td>\n",
              "      <td>12</td>\n",
              "      <td>2006</td>\n",
              "      <td>19</td>\n",
              "      <td>0</td>\n",
              "      <td>0.0</td>\n",
              "    </tr>\n",
              "    <tr>\n",
              "      <th>3</th>\n",
              "      <td>0.310</td>\n",
              "      <td>0.000</td>\n",
              "      <td>242.17</td>\n",
              "      <td>1.4</td>\n",
              "      <td>8</td>\n",
              "      <td>3</td>\n",
              "      <td>2010</td>\n",
              "      <td>8</td>\n",
              "      <td>44</td>\n",
              "      <td>1.0</td>\n",
              "    </tr>\n",
              "    <tr>\n",
              "      <th>4</th>\n",
              "      <td>0.616</td>\n",
              "      <td>0.070</td>\n",
              "      <td>243.51</td>\n",
              "      <td>2.6</td>\n",
              "      <td>4</td>\n",
              "      <td>10</td>\n",
              "      <td>2010</td>\n",
              "      <td>20</td>\n",
              "      <td>19</td>\n",
              "      <td>1.0</td>\n",
              "    </tr>\n",
              "  </tbody>\n",
              "</table>\n",
              "</div>\n",
              "      <button class=\"colab-df-convert\" onclick=\"convertToInteractive('df-7a37c339-89a3-47fe-a148-8b023cdaebdb')\"\n",
              "              title=\"Convert this dataframe to an interactive table.\"\n",
              "              style=\"display:none;\">\n",
              "        \n",
              "  <svg xmlns=\"http://www.w3.org/2000/svg\" height=\"24px\"viewBox=\"0 0 24 24\"\n",
              "       width=\"24px\">\n",
              "    <path d=\"M0 0h24v24H0V0z\" fill=\"none\"/>\n",
              "    <path d=\"M18.56 5.44l.94 2.06.94-2.06 2.06-.94-2.06-.94-.94-2.06-.94 2.06-2.06.94zm-11 1L8.5 8.5l.94-2.06 2.06-.94-2.06-.94L8.5 2.5l-.94 2.06-2.06.94zm10 10l.94 2.06.94-2.06 2.06-.94-2.06-.94-.94-2.06-.94 2.06-2.06.94z\"/><path d=\"M17.41 7.96l-1.37-1.37c-.4-.4-.92-.59-1.43-.59-.52 0-1.04.2-1.43.59L10.3 9.45l-7.72 7.72c-.78.78-.78 2.05 0 2.83L4 21.41c.39.39.9.59 1.41.59.51 0 1.02-.2 1.41-.59l7.78-7.78 2.81-2.81c.8-.78.8-2.07 0-2.86zM5.41 20L4 18.59l7.72-7.72 1.47 1.35L5.41 20z\"/>\n",
              "  </svg>\n",
              "      </button>\n",
              "      \n",
              "  <style>\n",
              "    .colab-df-container {\n",
              "      display:flex;\n",
              "      flex-wrap:wrap;\n",
              "      gap: 12px;\n",
              "    }\n",
              "\n",
              "    .colab-df-convert {\n",
              "      background-color: #E8F0FE;\n",
              "      border: none;\n",
              "      border-radius: 50%;\n",
              "      cursor: pointer;\n",
              "      display: none;\n",
              "      fill: #1967D2;\n",
              "      height: 32px;\n",
              "      padding: 0 0 0 0;\n",
              "      width: 32px;\n",
              "    }\n",
              "\n",
              "    .colab-df-convert:hover {\n",
              "      background-color: #E2EBFA;\n",
              "      box-shadow: 0px 1px 2px rgba(60, 64, 67, 0.3), 0px 1px 3px 1px rgba(60, 64, 67, 0.15);\n",
              "      fill: #174EA6;\n",
              "    }\n",
              "\n",
              "    [theme=dark] .colab-df-convert {\n",
              "      background-color: #3B4455;\n",
              "      fill: #D2E3FC;\n",
              "    }\n",
              "\n",
              "    [theme=dark] .colab-df-convert:hover {\n",
              "      background-color: #434B5C;\n",
              "      box-shadow: 0px 1px 3px 1px rgba(0, 0, 0, 0.15);\n",
              "      filter: drop-shadow(0px 1px 2px rgba(0, 0, 0, 0.3));\n",
              "      fill: #FFFFFF;\n",
              "    }\n",
              "  </style>\n",
              "\n",
              "      <script>\n",
              "        const buttonEl =\n",
              "          document.querySelector('#df-7a37c339-89a3-47fe-a148-8b023cdaebdb button.colab-df-convert');\n",
              "        buttonEl.style.display =\n",
              "          google.colab.kernel.accessAllowed ? 'block' : 'none';\n",
              "\n",
              "        async function convertToInteractive(key) {\n",
              "          const element = document.querySelector('#df-7a37c339-89a3-47fe-a148-8b023cdaebdb');\n",
              "          const dataTable =\n",
              "            await google.colab.kernel.invokeFunction('convertToInteractive',\n",
              "                                                     [key], {});\n",
              "          if (!dataTable) return;\n",
              "\n",
              "          const docLinkHtml = 'Like what you see? Visit the ' +\n",
              "            '<a target=\"_blank\" href=https://colab.research.google.com/notebooks/data_table.ipynb>data table notebook</a>'\n",
              "            + ' to learn more about interactive tables.';\n",
              "          element.innerHTML = '';\n",
              "          dataTable['output_type'] = 'display_data';\n",
              "          await google.colab.output.renderOutput(dataTable, element);\n",
              "          const docLink = document.createElement('div');\n",
              "          docLink.innerHTML = docLinkHtml;\n",
              "          element.appendChild(docLink);\n",
              "        }\n",
              "      </script>\n",
              "    </div>\n",
              "  </div>\n",
              "  "
            ]
          },
          "metadata": {},
          "execution_count": 114
        }
      ]
    },
    {
      "cell_type": "markdown",
      "source": [
        "***Saving this Cleaned data***"
      ],
      "metadata": {
        "id": "4a6kqQT4jXuM"
      }
    },
    {
      "cell_type": "code",
      "source": [
        "df_sample.to_csv(\"cleaned_household_power_consumption_data.csv\")\n"
      ],
      "metadata": {
        "id": "o7EtB7ahWFTl"
      },
      "execution_count": 115,
      "outputs": []
    },
    {
      "cell_type": "code",
      "source": [
        "df_new=pd.DataFrame()\n"
      ],
      "metadata": {
        "id": "Ri5ZS3pzWqKe"
      },
      "execution_count": 116,
      "outputs": []
    },
    {
      "cell_type": "code",
      "source": [
        "df_new=df_sample"
      ],
      "metadata": {
        "id": "IXIIY1dcXNm8"
      },
      "execution_count": 117,
      "outputs": []
    },
    {
      "cell_type": "code",
      "source": [
        "df_new.head()"
      ],
      "metadata": {
        "colab": {
          "base_uri": "https://localhost:8080/",
          "height": 206
        },
        "id": "0bt_e18MXTne",
        "outputId": "6e432390-373a-4570-9cb9-2fc693e3c1b8"
      },
      "execution_count": 118,
      "outputs": [
        {
          "output_type": "execute_result",
          "data": {
            "text/plain": [
              "   Global_active_power  Global_reactive_power  Voltage  Global_intensity  Day  \\\n",
              "0                0.464                  0.086   241.82               2.2   23   \n",
              "1                3.496                  0.344   241.26              14.6   14   \n",
              "2                2.448                  0.100   235.30              10.4   31   \n",
              "3                0.310                  0.000   242.17               1.4    8   \n",
              "4                0.616                  0.070   243.51               2.6    4   \n",
              "\n",
              "   Month  Year  Hour  Minutes  Total_meetering  \n",
              "0      1  2008     5       40              2.0  \n",
              "1     12  2008    15        1             38.0  \n",
              "2     12  2006    19        0              0.0  \n",
              "3      3  2010     8       44              1.0  \n",
              "4     10  2010    20       19              1.0  "
            ],
            "text/html": [
              "\n",
              "  <div id=\"df-b69b2297-a38a-4b6e-b0bd-552f63508b08\">\n",
              "    <div class=\"colab-df-container\">\n",
              "      <div>\n",
              "<style scoped>\n",
              "    .dataframe tbody tr th:only-of-type {\n",
              "        vertical-align: middle;\n",
              "    }\n",
              "\n",
              "    .dataframe tbody tr th {\n",
              "        vertical-align: top;\n",
              "    }\n",
              "\n",
              "    .dataframe thead th {\n",
              "        text-align: right;\n",
              "    }\n",
              "</style>\n",
              "<table border=\"1\" class=\"dataframe\">\n",
              "  <thead>\n",
              "    <tr style=\"text-align: right;\">\n",
              "      <th></th>\n",
              "      <th>Global_active_power</th>\n",
              "      <th>Global_reactive_power</th>\n",
              "      <th>Voltage</th>\n",
              "      <th>Global_intensity</th>\n",
              "      <th>Day</th>\n",
              "      <th>Month</th>\n",
              "      <th>Year</th>\n",
              "      <th>Hour</th>\n",
              "      <th>Minutes</th>\n",
              "      <th>Total_meetering</th>\n",
              "    </tr>\n",
              "  </thead>\n",
              "  <tbody>\n",
              "    <tr>\n",
              "      <th>0</th>\n",
              "      <td>0.464</td>\n",
              "      <td>0.086</td>\n",
              "      <td>241.82</td>\n",
              "      <td>2.2</td>\n",
              "      <td>23</td>\n",
              "      <td>1</td>\n",
              "      <td>2008</td>\n",
              "      <td>5</td>\n",
              "      <td>40</td>\n",
              "      <td>2.0</td>\n",
              "    </tr>\n",
              "    <tr>\n",
              "      <th>1</th>\n",
              "      <td>3.496</td>\n",
              "      <td>0.344</td>\n",
              "      <td>241.26</td>\n",
              "      <td>14.6</td>\n",
              "      <td>14</td>\n",
              "      <td>12</td>\n",
              "      <td>2008</td>\n",
              "      <td>15</td>\n",
              "      <td>1</td>\n",
              "      <td>38.0</td>\n",
              "    </tr>\n",
              "    <tr>\n",
              "      <th>2</th>\n",
              "      <td>2.448</td>\n",
              "      <td>0.100</td>\n",
              "      <td>235.30</td>\n",
              "      <td>10.4</td>\n",
              "      <td>31</td>\n",
              "      <td>12</td>\n",
              "      <td>2006</td>\n",
              "      <td>19</td>\n",
              "      <td>0</td>\n",
              "      <td>0.0</td>\n",
              "    </tr>\n",
              "    <tr>\n",
              "      <th>3</th>\n",
              "      <td>0.310</td>\n",
              "      <td>0.000</td>\n",
              "      <td>242.17</td>\n",
              "      <td>1.4</td>\n",
              "      <td>8</td>\n",
              "      <td>3</td>\n",
              "      <td>2010</td>\n",
              "      <td>8</td>\n",
              "      <td>44</td>\n",
              "      <td>1.0</td>\n",
              "    </tr>\n",
              "    <tr>\n",
              "      <th>4</th>\n",
              "      <td>0.616</td>\n",
              "      <td>0.070</td>\n",
              "      <td>243.51</td>\n",
              "      <td>2.6</td>\n",
              "      <td>4</td>\n",
              "      <td>10</td>\n",
              "      <td>2010</td>\n",
              "      <td>20</td>\n",
              "      <td>19</td>\n",
              "      <td>1.0</td>\n",
              "    </tr>\n",
              "  </tbody>\n",
              "</table>\n",
              "</div>\n",
              "      <button class=\"colab-df-convert\" onclick=\"convertToInteractive('df-b69b2297-a38a-4b6e-b0bd-552f63508b08')\"\n",
              "              title=\"Convert this dataframe to an interactive table.\"\n",
              "              style=\"display:none;\">\n",
              "        \n",
              "  <svg xmlns=\"http://www.w3.org/2000/svg\" height=\"24px\"viewBox=\"0 0 24 24\"\n",
              "       width=\"24px\">\n",
              "    <path d=\"M0 0h24v24H0V0z\" fill=\"none\"/>\n",
              "    <path d=\"M18.56 5.44l.94 2.06.94-2.06 2.06-.94-2.06-.94-.94-2.06-.94 2.06-2.06.94zm-11 1L8.5 8.5l.94-2.06 2.06-.94-2.06-.94L8.5 2.5l-.94 2.06-2.06.94zm10 10l.94 2.06.94-2.06 2.06-.94-2.06-.94-.94-2.06-.94 2.06-2.06.94z\"/><path d=\"M17.41 7.96l-1.37-1.37c-.4-.4-.92-.59-1.43-.59-.52 0-1.04.2-1.43.59L10.3 9.45l-7.72 7.72c-.78.78-.78 2.05 0 2.83L4 21.41c.39.39.9.59 1.41.59.51 0 1.02-.2 1.41-.59l7.78-7.78 2.81-2.81c.8-.78.8-2.07 0-2.86zM5.41 20L4 18.59l7.72-7.72 1.47 1.35L5.41 20z\"/>\n",
              "  </svg>\n",
              "      </button>\n",
              "      \n",
              "  <style>\n",
              "    .colab-df-container {\n",
              "      display:flex;\n",
              "      flex-wrap:wrap;\n",
              "      gap: 12px;\n",
              "    }\n",
              "\n",
              "    .colab-df-convert {\n",
              "      background-color: #E8F0FE;\n",
              "      border: none;\n",
              "      border-radius: 50%;\n",
              "      cursor: pointer;\n",
              "      display: none;\n",
              "      fill: #1967D2;\n",
              "      height: 32px;\n",
              "      padding: 0 0 0 0;\n",
              "      width: 32px;\n",
              "    }\n",
              "\n",
              "    .colab-df-convert:hover {\n",
              "      background-color: #E2EBFA;\n",
              "      box-shadow: 0px 1px 2px rgba(60, 64, 67, 0.3), 0px 1px 3px 1px rgba(60, 64, 67, 0.15);\n",
              "      fill: #174EA6;\n",
              "    }\n",
              "\n",
              "    [theme=dark] .colab-df-convert {\n",
              "      background-color: #3B4455;\n",
              "      fill: #D2E3FC;\n",
              "    }\n",
              "\n",
              "    [theme=dark] .colab-df-convert:hover {\n",
              "      background-color: #434B5C;\n",
              "      box-shadow: 0px 1px 3px 1px rgba(0, 0, 0, 0.15);\n",
              "      filter: drop-shadow(0px 1px 2px rgba(0, 0, 0, 0.3));\n",
              "      fill: #FFFFFF;\n",
              "    }\n",
              "  </style>\n",
              "\n",
              "      <script>\n",
              "        const buttonEl =\n",
              "          document.querySelector('#df-b69b2297-a38a-4b6e-b0bd-552f63508b08 button.colab-df-convert');\n",
              "        buttonEl.style.display =\n",
              "          google.colab.kernel.accessAllowed ? 'block' : 'none';\n",
              "\n",
              "        async function convertToInteractive(key) {\n",
              "          const element = document.querySelector('#df-b69b2297-a38a-4b6e-b0bd-552f63508b08');\n",
              "          const dataTable =\n",
              "            await google.colab.kernel.invokeFunction('convertToInteractive',\n",
              "                                                     [key], {});\n",
              "          if (!dataTable) return;\n",
              "\n",
              "          const docLinkHtml = 'Like what you see? Visit the ' +\n",
              "            '<a target=\"_blank\" href=https://colab.research.google.com/notebooks/data_table.ipynb>data table notebook</a>'\n",
              "            + ' to learn more about interactive tables.';\n",
              "          element.innerHTML = '';\n",
              "          dataTable['output_type'] = 'display_data';\n",
              "          await google.colab.output.renderOutput(dataTable, element);\n",
              "          const docLink = document.createElement('div');\n",
              "          docLink.innerHTML = docLinkHtml;\n",
              "          element.appendChild(docLink);\n",
              "        }\n",
              "      </script>\n",
              "    </div>\n",
              "  </div>\n",
              "  "
            ]
          },
          "metadata": {},
          "execution_count": 118
        }
      ]
    },
    {
      "cell_type": "code",
      "source": [
        "df_new.shape"
      ],
      "metadata": {
        "colab": {
          "base_uri": "https://localhost:8080/"
        },
        "id": "Is76F5GwXXBc",
        "outputId": "abb4c1d2-d142-4b29-f85d-30a48fdef981"
      },
      "execution_count": 119,
      "outputs": [
        {
          "output_type": "execute_result",
          "data": {
            "text/plain": [
              "(30000, 10)"
            ]
          },
          "metadata": {},
          "execution_count": 119
        }
      ]
    },
    {
      "cell_type": "markdown",
      "source": [
        "**6. Preprocessing**"
      ],
      "metadata": {
        "id": "Y-SXGN6yYn2n"
      }
    },
    {
      "cell_type": "code",
      "source": [
        "x=df_new.drop(['Day','Month','Year','Hour','Minutes','Total_meetering'],axis=1)\n",
        "y=df_new['Total_meetering']"
      ],
      "metadata": {
        "id": "vlyBpmHPXhL8"
      },
      "execution_count": 120,
      "outputs": []
    },
    {
      "cell_type": "code",
      "source": [
        "x.head()"
      ],
      "metadata": {
        "colab": {
          "base_uri": "https://localhost:8080/",
          "height": 206
        },
        "id": "idw4TmZ_ZhIq",
        "outputId": "17a5101c-ce62-4b09-f6cb-51a4cff118e2"
      },
      "execution_count": 121,
      "outputs": [
        {
          "output_type": "execute_result",
          "data": {
            "text/plain": [
              "   Global_active_power  Global_reactive_power  Voltage  Global_intensity\n",
              "0                0.464                  0.086   241.82               2.2\n",
              "1                3.496                  0.344   241.26              14.6\n",
              "2                2.448                  0.100   235.30              10.4\n",
              "3                0.310                  0.000   242.17               1.4\n",
              "4                0.616                  0.070   243.51               2.6"
            ],
            "text/html": [
              "\n",
              "  <div id=\"df-8cbe2644-27ab-48bc-b7ce-df1d73ab0fdd\">\n",
              "    <div class=\"colab-df-container\">\n",
              "      <div>\n",
              "<style scoped>\n",
              "    .dataframe tbody tr th:only-of-type {\n",
              "        vertical-align: middle;\n",
              "    }\n",
              "\n",
              "    .dataframe tbody tr th {\n",
              "        vertical-align: top;\n",
              "    }\n",
              "\n",
              "    .dataframe thead th {\n",
              "        text-align: right;\n",
              "    }\n",
              "</style>\n",
              "<table border=\"1\" class=\"dataframe\">\n",
              "  <thead>\n",
              "    <tr style=\"text-align: right;\">\n",
              "      <th></th>\n",
              "      <th>Global_active_power</th>\n",
              "      <th>Global_reactive_power</th>\n",
              "      <th>Voltage</th>\n",
              "      <th>Global_intensity</th>\n",
              "    </tr>\n",
              "  </thead>\n",
              "  <tbody>\n",
              "    <tr>\n",
              "      <th>0</th>\n",
              "      <td>0.464</td>\n",
              "      <td>0.086</td>\n",
              "      <td>241.82</td>\n",
              "      <td>2.2</td>\n",
              "    </tr>\n",
              "    <tr>\n",
              "      <th>1</th>\n",
              "      <td>3.496</td>\n",
              "      <td>0.344</td>\n",
              "      <td>241.26</td>\n",
              "      <td>14.6</td>\n",
              "    </tr>\n",
              "    <tr>\n",
              "      <th>2</th>\n",
              "      <td>2.448</td>\n",
              "      <td>0.100</td>\n",
              "      <td>235.30</td>\n",
              "      <td>10.4</td>\n",
              "    </tr>\n",
              "    <tr>\n",
              "      <th>3</th>\n",
              "      <td>0.310</td>\n",
              "      <td>0.000</td>\n",
              "      <td>242.17</td>\n",
              "      <td>1.4</td>\n",
              "    </tr>\n",
              "    <tr>\n",
              "      <th>4</th>\n",
              "      <td>0.616</td>\n",
              "      <td>0.070</td>\n",
              "      <td>243.51</td>\n",
              "      <td>2.6</td>\n",
              "    </tr>\n",
              "  </tbody>\n",
              "</table>\n",
              "</div>\n",
              "      <button class=\"colab-df-convert\" onclick=\"convertToInteractive('df-8cbe2644-27ab-48bc-b7ce-df1d73ab0fdd')\"\n",
              "              title=\"Convert this dataframe to an interactive table.\"\n",
              "              style=\"display:none;\">\n",
              "        \n",
              "  <svg xmlns=\"http://www.w3.org/2000/svg\" height=\"24px\"viewBox=\"0 0 24 24\"\n",
              "       width=\"24px\">\n",
              "    <path d=\"M0 0h24v24H0V0z\" fill=\"none\"/>\n",
              "    <path d=\"M18.56 5.44l.94 2.06.94-2.06 2.06-.94-2.06-.94-.94-2.06-.94 2.06-2.06.94zm-11 1L8.5 8.5l.94-2.06 2.06-.94-2.06-.94L8.5 2.5l-.94 2.06-2.06.94zm10 10l.94 2.06.94-2.06 2.06-.94-2.06-.94-.94-2.06-.94 2.06-2.06.94z\"/><path d=\"M17.41 7.96l-1.37-1.37c-.4-.4-.92-.59-1.43-.59-.52 0-1.04.2-1.43.59L10.3 9.45l-7.72 7.72c-.78.78-.78 2.05 0 2.83L4 21.41c.39.39.9.59 1.41.59.51 0 1.02-.2 1.41-.59l7.78-7.78 2.81-2.81c.8-.78.8-2.07 0-2.86zM5.41 20L4 18.59l7.72-7.72 1.47 1.35L5.41 20z\"/>\n",
              "  </svg>\n",
              "      </button>\n",
              "      \n",
              "  <style>\n",
              "    .colab-df-container {\n",
              "      display:flex;\n",
              "      flex-wrap:wrap;\n",
              "      gap: 12px;\n",
              "    }\n",
              "\n",
              "    .colab-df-convert {\n",
              "      background-color: #E8F0FE;\n",
              "      border: none;\n",
              "      border-radius: 50%;\n",
              "      cursor: pointer;\n",
              "      display: none;\n",
              "      fill: #1967D2;\n",
              "      height: 32px;\n",
              "      padding: 0 0 0 0;\n",
              "      width: 32px;\n",
              "    }\n",
              "\n",
              "    .colab-df-convert:hover {\n",
              "      background-color: #E2EBFA;\n",
              "      box-shadow: 0px 1px 2px rgba(60, 64, 67, 0.3), 0px 1px 3px 1px rgba(60, 64, 67, 0.15);\n",
              "      fill: #174EA6;\n",
              "    }\n",
              "\n",
              "    [theme=dark] .colab-df-convert {\n",
              "      background-color: #3B4455;\n",
              "      fill: #D2E3FC;\n",
              "    }\n",
              "\n",
              "    [theme=dark] .colab-df-convert:hover {\n",
              "      background-color: #434B5C;\n",
              "      box-shadow: 0px 1px 3px 1px rgba(0, 0, 0, 0.15);\n",
              "      filter: drop-shadow(0px 1px 2px rgba(0, 0, 0, 0.3));\n",
              "      fill: #FFFFFF;\n",
              "    }\n",
              "  </style>\n",
              "\n",
              "      <script>\n",
              "        const buttonEl =\n",
              "          document.querySelector('#df-8cbe2644-27ab-48bc-b7ce-df1d73ab0fdd button.colab-df-convert');\n",
              "        buttonEl.style.display =\n",
              "          google.colab.kernel.accessAllowed ? 'block' : 'none';\n",
              "\n",
              "        async function convertToInteractive(key) {\n",
              "          const element = document.querySelector('#df-8cbe2644-27ab-48bc-b7ce-df1d73ab0fdd');\n",
              "          const dataTable =\n",
              "            await google.colab.kernel.invokeFunction('convertToInteractive',\n",
              "                                                     [key], {});\n",
              "          if (!dataTable) return;\n",
              "\n",
              "          const docLinkHtml = 'Like what you see? Visit the ' +\n",
              "            '<a target=\"_blank\" href=https://colab.research.google.com/notebooks/data_table.ipynb>data table notebook</a>'\n",
              "            + ' to learn more about interactive tables.';\n",
              "          element.innerHTML = '';\n",
              "          dataTable['output_type'] = 'display_data';\n",
              "          await google.colab.output.renderOutput(dataTable, element);\n",
              "          const docLink = document.createElement('div');\n",
              "          docLink.innerHTML = docLinkHtml;\n",
              "          element.appendChild(docLink);\n",
              "        }\n",
              "      </script>\n",
              "    </div>\n",
              "  </div>\n",
              "  "
            ]
          },
          "metadata": {},
          "execution_count": 121
        }
      ]
    },
    {
      "cell_type": "code",
      "source": [
        "y.head()"
      ],
      "metadata": {
        "colab": {
          "base_uri": "https://localhost:8080/"
        },
        "id": "ouX2YHc9ZjaP",
        "outputId": "c8dbb91f-72cd-4038-889c-5ad0f99d1e12"
      },
      "execution_count": 122,
      "outputs": [
        {
          "output_type": "execute_result",
          "data": {
            "text/plain": [
              "0     2.0\n",
              "1    38.0\n",
              "2     0.0\n",
              "3     1.0\n",
              "4     1.0\n",
              "Name: Total_meetering, dtype: float64"
            ]
          },
          "metadata": {},
          "execution_count": 122
        }
      ]
    },
    {
      "cell_type": "markdown",
      "source": [
        "***Splitting train and test data***"
      ],
      "metadata": {
        "id": "3B4oBAWzasdz"
      }
    },
    {
      "cell_type": "code",
      "source": [
        "x_train,x_test,y_train,y_test=train_test_split(x,y,test_size=0.33,random_state=36)\n",
        "x_train.shape,y_train.shape,x_test.shape,y_test.shape"
      ],
      "metadata": {
        "colab": {
          "base_uri": "https://localhost:8080/"
        },
        "id": "gErSDkP_Zm0H",
        "outputId": "a2724c8c-5b86-4e01-f38d-9242433cc2df"
      },
      "execution_count": 123,
      "outputs": [
        {
          "output_type": "execute_result",
          "data": {
            "text/plain": [
              "((20100, 4), (20100,), (9900, 4), (9900,))"
            ]
          },
          "metadata": {},
          "execution_count": 123
        }
      ]
    },
    {
      "cell_type": "markdown",
      "source": [
        "***Feature Scaling***"
      ],
      "metadata": {
        "id": "yc8DnzEMpCC-"
      }
    },
    {
      "cell_type": "code",
      "source": [
        "def scaler_standard(x_train,x_test):\n",
        "  scaler=StandardScaler()\n",
        "  x_train_scaled=scaler.fit_transform(x_train)\n",
        "  x_test_scaled=scaler.transform(x_test)\n",
        "  return x_train_scaled,x_test_scaled"
      ],
      "metadata": {
        "id": "k7Z5Z_ckcDZd"
      },
      "execution_count": 124,
      "outputs": []
    },
    {
      "cell_type": "code",
      "source": [
        "x_train_scaled,x_test_scaled=scaler_standard(x_train,x_test)"
      ],
      "metadata": {
        "id": "-nz6U-bKp8Oo"
      },
      "execution_count": 125,
      "outputs": []
    },
    {
      "cell_type": "code",
      "source": [
        "x_train_scaled"
      ],
      "metadata": {
        "colab": {
          "base_uri": "https://localhost:8080/"
        },
        "id": "JYaXzlh-qP2C",
        "outputId": "3439258d-a504-45f4-8718-380debb0abec"
      },
      "execution_count": 126,
      "outputs": [
        {
          "output_type": "execute_result",
          "data": {
            "text/plain": [
              "array([[-0.53382293, -1.11200891,  0.46763475, -0.54243363],\n",
              "       [-0.86969293, -1.11200891,  0.646499  , -0.86227846],\n",
              "       [-0.79292264, -0.35166001,  0.35044782, -0.81658634],\n",
              "       ...,\n",
              "       [ 0.25883025, -0.36976356, -0.40818332,  0.23433237],\n",
              "       [ 0.29337688, -0.53269546,  2.14525809,  0.23433237],\n",
              "       [ 0.26266876, -0.51459192, -0.93244062,  0.23433237]])"
            ]
          },
          "metadata": {},
          "execution_count": 126
        }
      ]
    },
    {
      "cell_type": "markdown",
      "source": [
        "**7. Model**"
      ],
      "metadata": {
        "id": "InWg_hbw3zKN"
      }
    },
    {
      "cell_type": "markdown",
      "source": [
        "***A)Linear Regression***"
      ],
      "metadata": {
        "id": "-oVp2Y9Z35aH"
      }
    },
    {
      "cell_type": "code",
      "source": [
        "model=linear_model.LinearRegression(fit_intercept=True)\n",
        "model.fit(x_train_scaled,y_train)"
      ],
      "metadata": {
        "colab": {
          "base_uri": "https://localhost:8080/"
        },
        "id": "NOsjeVggqT-6",
        "outputId": "0405c385-4a8a-431f-c5b4-c79798ad8782"
      },
      "execution_count": 127,
      "outputs": [
        {
          "output_type": "execute_result",
          "data": {
            "text/plain": [
              "LinearRegression()"
            ]
          },
          "metadata": {},
          "execution_count": 127
        }
      ]
    },
    {
      "cell_type": "code",
      "source": [
        "print(model.coef_)\n",
        "print(model.intercept_)"
      ],
      "metadata": {
        "colab": {
          "base_uri": "https://localhost:8080/"
        },
        "id": "X7YxTUNS44ms",
        "outputId": "4d0dd51b-5cbd-4110-b6ec-da5579025a1f"
      },
      "execution_count": 128,
      "outputs": [
        {
          "output_type": "stream",
          "name": "stdout",
          "text": [
            "[ 23.40393654  -0.12623819  -0.26695719 -12.73697451]\n",
            "8.690049751243782\n"
          ]
        }
      ]
    },
    {
      "cell_type": "markdown",
      "source": [
        "***Prediction***"
      ],
      "metadata": {
        "id": "kVu-U6sv9yOk"
      }
    },
    {
      "cell_type": "code",
      "source": [
        "y_pred=model.predict(x_test_scaled)"
      ],
      "metadata": {
        "id": "qwiZLUap5jnR"
      },
      "execution_count": 129,
      "outputs": []
    },
    {
      "cell_type": "markdown",
      "source": [
        "***Mean Squared Error***"
      ],
      "metadata": {
        "id": "XijSmlUE7-xQ"
      }
    },
    {
      "cell_type": "code",
      "source": [
        "error=mean_squared_error(y_pred,y_test)\n",
        "print(error)"
      ],
      "metadata": {
        "colab": {
          "base_uri": "https://localhost:8080/"
        },
        "id": "HPDbP24_6YHA",
        "outputId": "3a833f01-3272-423b-eee1-7d01834b3250"
      },
      "execution_count": 130,
      "outputs": [
        {
          "output_type": "stream",
          "name": "stdout",
          "text": [
            "43.61257059250205\n"
          ]
        }
      ]
    },
    {
      "cell_type": "markdown",
      "source": [
        "***Plot the data***"
      ],
      "metadata": {
        "id": "Fomzs-dsHhVJ"
      }
    },
    {
      "cell_type": "code",
      "source": [
        "plt.scatter(y_test,y_pred,color='red') \n",
        "plt.xlabel(\"Test Truth Data\")\n",
        "plt.ylabel(\"Test Predicted Data\")\n",
        "sns.set(rc={'figure.figsize':(10,8)})\n"
      ],
      "metadata": {
        "colab": {
          "base_uri": "https://localhost:8080/",
          "height": 502
        },
        "id": "MHIpycKfHREB",
        "outputId": "17dac266-b661-41a8-e7fd-cd1cc2d68866"
      },
      "execution_count": 131,
      "outputs": [
        {
          "output_type": "display_data",
          "data": {
            "text/plain": [
              "<Figure size 720x576 with 1 Axes>"
            ],
            "image/png": "[encoded data removed]"
          },
          "metadata": {}
        }
      ]
    },
    {
      "cell_type": "markdown",
      "source": [
        "***B)Ridge Regression***"
      ],
      "metadata": {
        "id": "ZsNRtp1R-Wi_"
      }
    },
    {
      "cell_type": "code",
      "source": [
        "ridge=Ridge()\n",
        "ridge.fit(x_train_scaled,y_train)"
      ],
      "metadata": {
        "colab": {
          "base_uri": "https://localhost:8080/"
        },
        "id": "IzPngPjK8H40",
        "outputId": "13030091-537c-44b7-9370-63d09c8bd4e7"
      },
      "execution_count": 132,
      "outputs": [
        {
          "output_type": "execute_result",
          "data": {
            "text/plain": [
              "Ridge()"
            ]
          },
          "metadata": {},
          "execution_count": 132
        }
      ]
    },
    {
      "cell_type": "code",
      "source": [
        "ridge_pred=ridge.predict(x_test_scaled)"
      ],
      "metadata": {
        "id": "8T_e2LFHBOMa"
      },
      "execution_count": 133,
      "outputs": []
    },
    {
      "cell_type": "markdown",
      "source": [
        "***Mean Squared Error***"
      ],
      "metadata": {
        "id": "cIKkyscxBuHY"
      }
    },
    {
      "cell_type": "code",
      "source": [
        "error=mean_squared_error(ridge_pred,y_test)\n",
        "print(error)"
      ],
      "metadata": {
        "colab": {
          "base_uri": "https://localhost:8080/"
        },
        "id": "-G-F5_S9Bx9I",
        "outputId": "86bcd48a-fa26-45eb-fe94-4c657a74e031"
      },
      "execution_count": 134,
      "outputs": [
        {
          "output_type": "stream",
          "name": "stdout",
          "text": [
            "43.615741163310595\n"
          ]
        }
      ]
    },
    {
      "cell_type": "markdown",
      "source": [
        "***Plot the data***"
      ],
      "metadata": {
        "id": "dXmeh-3fDJHY"
      }
    },
    {
      "cell_type": "code",
      "source": [
        "plt.scatter(y_test,ridge_pred,color='green') \n",
        "plt.xlabel(\"Test Truth Data\")\n",
        "plt.ylabel(\"Test Predicted Data\")\n",
        "sns.set(rc={'figure.figsize':(10,8)})\n"
      ],
      "metadata": {
        "colab": {
          "base_uri": "https://localhost:8080/",
          "height": 502
        },
        "id": "QJncbAvVE-uG",
        "outputId": "18d505d6-8d82-4a85-d36e-1bc46e31410a"
      },
      "execution_count": 135,
      "outputs": [
        {
          "output_type": "display_data",
          "data": {
            "text/plain": [
              "<Figure size 720x576 with 1 Axes>"
            ],
            "image/png": "[encoded data removed]"
          },
          "metadata": {}
        }
      ]
    }
  ]
}